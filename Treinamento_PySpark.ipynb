{
  "nbformat": 4,
  "nbformat_minor": 0,
  "metadata": {
    "colab": {
      "provenance": [],
      "authorship_tag": "ABX9TyMICUACRZmNg7VZtZQS1ef8",
      "include_colab_link": true
    },
    "kernelspec": {
      "name": "python3",
      "display_name": "Python 3"
    },
    "language_info": {
      "name": "python"
    }
  },
  "cells": [
    {
      "cell_type": "markdown",
      "metadata": {
        "id": "view-in-github",
        "colab_type": "text"
      },
      "source": [
        "<a href=\"https://colab.research.google.com/github/mvmarcio/Analise_Dados_Spark/blob/main/Treinamento_PySpark.ipynb\" target=\"_parent\"><img src=\"https://colab.research.google.com/assets/colab-badge.svg\" alt=\"Open In Colab\"/></a>"
      ]
    },
    {
      "cell_type": "markdown",
      "source": [
        "## **Análise de Dados com PySpark**\n",
        "\n",
        "O objeteivo deste documento é realizar uma análise de dados utilizando a linguagem PySpark. Serão realizadas as seguintes análises:\n",
        "\n",
        "\n",
        "\n",
        "*   Instalação PySpark\n",
        "*   Importação bibliotecas / funções\n",
        "*   Criar Sessão PySpark\n",
        "*   Criar data frame / ler arquivo\n",
        "*   Exibir data frame\n",
        "*   Verificar tipos de colunas\n",
        "*   Verificando dados nulos\n",
        "*   Selecionar Colunas\n",
        "*   Selecionar Colunas com ALIAS\n",
        "*   Organizar Select\n",
        "*   Filtrar o data frame\n",
        "*   Filtrar o data frame com 2 ou mais condições (AND / &)\n",
        "*   Filtrar o data frame com 2 ou mais condições (OR / |)\n",
        "*   Filtrar o data frame combinando & e | (And e OR)\n",
        "*   Criar novas colunas (usando função lit)\n",
        "*   Criar coluna condicional (usando função substring)\n",
        "*   Criar coluna condicional (usando função concat_ws)\n",
        "*   Renomear Colunas\n",
        "*   Alterar tipo de coluna\n",
        "\n",
        "O arquivo de análise será referente ao cadastro de jogadores da Copa do Mundo de 2018 que está disponível neste repositório.\n"
        "\n",
        "\n"
      ],
      "metadata": {
        "id": "38YSBRK25LlZ"
      }
    },
    {
      "cell_type": "markdown",
      "source": [
        "### **1. Instalando a Biblioteca do PySpark**"
      ],
      "metadata": {
        "id": "jhS1rkn16tF8"
      }
    },
    {
      "cell_type": "code",
      "execution_count": 1,
      "metadata": {
        "id": "RwDV1YWZ3d1M",
        "colab": {
          "base_uri": "https://localhost:8080/"
        },
        "collapsed": true,
        "outputId": "91da841d-8224-43aa-8aab-a16820f30cac"
      },
      "outputs": [
        {
          "output_type": "stream",
          "name": "stdout",
          "text": [
            "Collecting pyspark\n",
            "  Downloading pyspark-3.5.1.tar.gz (317.0 MB)\n",
            "\u001b[2K     \u001b[90m━━━━━━━━━━━━━━━━━━━━━━━━━━━━━━━━━━━━━━━━\u001b[0m \u001b[32m317.0/317.0 MB\u001b[0m \u001b[31m4.8 MB/s\u001b[0m eta \u001b[36m0:00:00\u001b[0m\n",
            "\u001b[?25h  Preparing metadata (setup.py) ... \u001b[?25l\u001b[?25hdone\n",
            "Requirement already satisfied: py4j==0.10.9.7 in /usr/local/lib/python3.10/dist-packages (from pyspark) (0.10.9.7)\n",
            "Building wheels for collected packages: pyspark\n",
            "  Building wheel for pyspark (setup.py) ... \u001b[?25l\u001b[?25hdone\n",
            "  Created wheel for pyspark: filename=pyspark-3.5.1-py2.py3-none-any.whl size=317488490 sha256=08a5d9a404de000bc19015fa9ac299795ac2369442a28fe8221d685e696b4c5b\n",
            "  Stored in directory: /root/.cache/pip/wheels/80/1d/60/2c256ed38dddce2fdd93be545214a63e02fbd8d74fb0b7f3a6\n",
            "Successfully built pyspark\n",
            "Installing collected packages: pyspark\n",
            "Successfully installed pyspark-3.5.1\n"
          ]
        }
      ],
      "source": [
        "!pip install pyspark"
      ]
    },
    {
      "cell_type": "code",
      "source": [
        "# Vamos chamar a biblioteca externa\n",
        "from pyspark.sql import SparkSession # para gerar o cluster\n",
        "\n",
        "from pyspark.sql.functions import * # importa as funções SQL Spark\n",
        "\n",
        "from pyspark.sql.types import * # Suporte para data frames"
      ],
      "metadata": {
        "id": "Xz-6R6Kn7Qfi"
      },
      "execution_count": 2,
      "outputs": []
    },
    {
      "cell_type": "markdown",
      "source": [
        "### **2. Vamos Criar o Cluster para a Análise**\n",
        "\n",
        "Para detalhes dessa funcionalidade acessar o link [PySpark](https://https://spark.apache.org/docs/latest/sql-getting-started.html)"
      ],
      "metadata": {
        "id": "-vMimNvU8C_H"
      }
    },
    {
      "cell_type": "code",
      "source": [
        "# Criando nosso cluster e sessão\n",
        "spark = (\n",
        "    SparkSession.builder\n",
        "    .master('local') # cluster local\n",
        "    .appName('PySpark_01') # nome de usuario\n",
        "    .getOrCreate()\n",
        ")"
      ],
      "metadata": {
        "id": "aR39Gwzb8tQp"
      },
      "execution_count": 3,
      "outputs": []
    },
    {
      "cell_type": "markdown",
      "source": [
        "### **3. Vamos Ler Nosso Arquivo da Análise**"
      ],
      "metadata": {
        "id": "TNISenru89Nl"
      }
    },
    {
      "cell_type": "code",
      "source": [
        "# Lendo arquivo\n",
        "dados = spark.read.csv('wc2018-players.csv', header=True, inferSchema=True)\n",
        "# O argumento header é para dizer que nossos dados possuem cabeçalho\n",
        "# O argumento inferSchema é para que os dados sejam automaticamente editados como numéricos ou strings. Se não for colocado todos são lidos como strings\n",
        "\n",
        "dados.show(5) # mostrando as primeiras 5 linhas"
      ],
      "metadata": {
        "colab": {
          "base_uri": "https://localhost:8080/"
        },
        "id": "0Gh8-qrV9G4R",
        "outputId": "08757d7d-4ebb-47da-b7de-d264f7486cbc"
      },
      "execution_count": 4,
      "outputs": [
        {
          "output_type": "stream",
          "name": "stdout",
          "text": [
            "+---------+---+----+------------------+----------+----------+--------------------+------+------+\n",
            "|     Team|  #|Pos.| FIFA Popular Name|Birth Date|Shirt Name|                Club|Height|Weight|\n",
            "+---------+---+----+------------------+----------+----------+--------------------+------+------+\n",
            "|Argentina|  3|  DF|TAGLIAFICO Nicolas|31.08.1992|TAGLIAFICO|      AFC Ajax (NED)|   169|    65|\n",
            "|Argentina| 22|  MF|    PAVON Cristian|21.01.1996|     PAVÓN|CA Boca Juniors (...|   169|    65|\n",
            "|Argentina| 15|  MF|    LANZINI Manuel|15.02.1993|   LANZINI|West Ham United F...|   167|    66|\n",
            "|Argentina| 18|  DF|    SALVIO Eduardo|13.07.1990|    SALVIO|    SL Benfica (POR)|   167|    69|\n",
            "|Argentina| 10|  FW|      MESSI Lionel|24.06.1987|     MESSI|  FC Barcelona (ESP)|   170|    72|\n",
            "+---------+---+----+------------------+----------+----------+--------------------+------+------+\n",
            "only showing top 5 rows\n",
            "\n"
          ]
        }
      ]
    },
    {
      "cell_type": "code",
      "source": [
        "# Vamos verificar os tipos das variáveis\n",
        "dados.printSchema()"
      ],
      "metadata": {
        "colab": {
          "base_uri": "https://localhost:8080/"
        },
        "id": "6Ku9rKmQ9xOv",
        "outputId": "af11bcbc-2e2f-478f-cbb8-c9fdfc5d5d18"
      },
      "execution_count": 5,
      "outputs": [
        {
          "output_type": "stream",
          "name": "stdout",
          "text": [
            "root\n",
            " |-- Team: string (nullable = true)\n",
            " |-- #: integer (nullable = true)\n",
            " |-- Pos.: string (nullable = true)\n",
            " |-- FIFA Popular Name: string (nullable = true)\n",
            " |-- Birth Date: string (nullable = true)\n",
            " |-- Shirt Name: string (nullable = true)\n",
            " |-- Club: string (nullable = true)\n",
            " |-- Height: integer (nullable = true)\n",
            " |-- Weight: integer (nullable = true)\n",
            "\n"
          ]
        }
      ]
    },
    {
      "cell_type": "code",
      "source": [
        "# Vamos renomear as colunas com a função withColumnRenamed\n",
        "dados = dados.withColumnRenamed('Pos.', 'Posicao') \\\n",
        ".withColumnRenamed('Team', 'Selecao').withColumnRenamed('#', 'Numero').withColumnRenamed('Pos.', 'Posicao')\\\n",
        ".withColumnRenamed('FIFA Popular Name', 'Nome_FIFA').withColumnRenamed('Birth Date', 'Nascimento')\\\n",
        ".withColumnRenamed('Shirt Name', 'Nome Camiseta').withColumnRenamed('Club', 'Time').withColumnRenamed('Height', 'Altura')\\\n",
        ".withColumnRenamed('Weight', 'Peso')\n",
        "\n",
        "dados.show(5)"
      ],
      "metadata": {
        "colab": {
          "base_uri": "https://localhost:8080/"
        },
        "id": "LxDPk4gz_HEY",
        "outputId": "25407ce4-23b9-4340-aa18-7e799a260826"
      },
      "execution_count": 6,
      "outputs": [
        {
          "output_type": "stream",
          "name": "stdout",
          "text": [
            "+---------+------+-------+------------------+----------+-------------+--------------------+------+----+\n",
            "|  Selecao|Numero|Posicao|         Nome_FIFA|Nascimento|Nome Camiseta|                Time|Altura|Peso|\n",
            "+---------+------+-------+------------------+----------+-------------+--------------------+------+----+\n",
            "|Argentina|     3|     DF|TAGLIAFICO Nicolas|31.08.1992|   TAGLIAFICO|      AFC Ajax (NED)|   169|  65|\n",
            "|Argentina|    22|     MF|    PAVON Cristian|21.01.1996|        PAVÓN|CA Boca Juniors (...|   169|  65|\n",
            "|Argentina|    15|     MF|    LANZINI Manuel|15.02.1993|      LANZINI|West Ham United F...|   167|  66|\n",
            "|Argentina|    18|     DF|    SALVIO Eduardo|13.07.1990|       SALVIO|    SL Benfica (POR)|   167|  69|\n",
            "|Argentina|    10|     FW|      MESSI Lionel|24.06.1987|        MESSI|  FC Barcelona (ESP)|   170|  72|\n",
            "+---------+------+-------+------------------+----------+-------------+--------------------+------+----+\n",
            "only showing top 5 rows\n",
            "\n"
          ]
        }
      ]
    },
    {
      "cell_type": "code",
      "source": [
        "# Vamos verificar os valores nulos\n",
        "for colunas in dados.columns:\n",
        "  print(colunas, dados.filter(dados[colunas].isNull()).count())"
      ],
      "metadata": {
        "colab": {
          "base_uri": "https://localhost:8080/"
        },
        "id": "IRntn-4x-eXm",
        "outputId": "eb59fa44-488f-4e8f-8f31-18d4205ccbe0"
      },
      "execution_count": 7,
      "outputs": [
        {
          "output_type": "stream",
          "name": "stdout",
          "text": [
            "Selecao 0\n",
            "Numero 0\n",
            "Posicao 0\n",
            "Nome_FIFA 0\n",
            "Nascimento 0\n",
            "Nome Camiseta 0\n",
            "Time 0\n",
            "Altura 0\n",
            "Peso 0\n"
          ]
        }
      ]
    },
    {
      "cell_type": "code",
      "source": [
        "# Vamos selecionar colunas do data frame com a função select\n",
        "dados.select('Selecao', 'Altura').show(5)"
      ],
      "metadata": {
        "colab": {
          "base_uri": "https://localhost:8080/"
        },
        "id": "fQFyND3T_DPq",
        "outputId": "acf8d244-dc6e-454b-fcdb-4569ed0c23fb"
      },
      "execution_count": 8,
      "outputs": [
        {
          "output_type": "stream",
          "name": "stdout",
          "text": [
            "+---------+------+\n",
            "|  Selecao|Altura|\n",
            "+---------+------+\n",
            "|Argentina|   169|\n",
            "|Argentina|   169|\n",
            "|Argentina|   167|\n",
            "|Argentina|   167|\n",
            "|Argentina|   170|\n",
            "+---------+------+\n",
            "only showing top 5 rows\n",
            "\n"
          ]
        }
      ]
    },
    {
      "cell_type": "code",
      "source": [
        " # Vamos filtrar dados da seleção brasileira\n",
        " dados.filter(dados.Selecao == 'Brazil').show(5) # exibe as 5 primeiras linhas do Brasil"
      ],
      "metadata": {
        "id": "66wxll0PA-Li",
        "colab": {
          "base_uri": "https://localhost:8080/"
        },
        "outputId": "a38c128e-a1b8-42ac-f0b7-ef281dd0d6b0"
      },
      "execution_count": 9,
      "outputs": [
        {
          "output_type": "stream",
          "name": "stdout",
          "text": [
            "+-------+------+-------+-----------+----------+-------------+--------------------+------+----+\n",
            "|Selecao|Numero|Posicao|  Nome_FIFA|Nascimento|Nome Camiseta|                Time|Altura|Peso|\n",
            "+-------+------+-------+-----------+----------+-------------+--------------------+------+----+\n",
            "| Brazil|    18|     MF|       FRED|05.03.1993|         FRED|FC Shakhtar Donet...|   169|  64|\n",
            "| Brazil|    21|     FW|     TAISON|13.01.1988|       TAISON|FC Shakhtar Donet...|   172|  64|\n",
            "| Brazil|    17|     MF|FERNANDINHO|04.05.1985|  FERNANDINHO|Manchester City F...|   179|  67|\n",
            "| Brazil|    22|     DF|     FAGNER|11.06.1989|       FAGNER|SC Corinthians (BRA)|   168|  67|\n",
            "| Brazil|    10|     FW|     NEYMAR|05.02.1992|    NEYMAR JR|Paris Saint-Germa...|   175|  68|\n",
            "+-------+------+-------+-----------+----------+-------------+--------------------+------+----+\n",
            "only showing top 5 rows\n",
            "\n"
          ]
        }
      ]
    },
    {
      "cell_type": "code",
      "source": [
        "# Vamos filtrar a seleção brasileira com outra função\n",
        "dados.filter('Selecao == \"Brazil\" ').show(5) # exibe as primeiras 5 linhas"
      ],
      "metadata": {
        "colab": {
          "base_uri": "https://localhost:8080/"
        },
        "id": "X97XWWig8HhE",
        "outputId": "c9aaa4c2-664f-4c48-daef-31443f52ee8f"
      },
      "execution_count": 10,
      "outputs": [
        {
          "output_type": "stream",
          "name": "stdout",
          "text": [
            "+-------+------+-------+-----------+----------+-------------+--------------------+------+----+\n",
            "|Selecao|Numero|Posicao|  Nome_FIFA|Nascimento|Nome Camiseta|                Time|Altura|Peso|\n",
            "+-------+------+-------+-----------+----------+-------------+--------------------+------+----+\n",
            "| Brazil|    18|     MF|       FRED|05.03.1993|         FRED|FC Shakhtar Donet...|   169|  64|\n",
            "| Brazil|    21|     FW|     TAISON|13.01.1988|       TAISON|FC Shakhtar Donet...|   172|  64|\n",
            "| Brazil|    17|     MF|FERNANDINHO|04.05.1985|  FERNANDINHO|Manchester City F...|   179|  67|\n",
            "| Brazil|    22|     DF|     FAGNER|11.06.1989|       FAGNER|SC Corinthians (BRA)|   168|  67|\n",
            "| Brazil|    10|     FW|     NEYMAR|05.02.1992|    NEYMAR JR|Paris Saint-Germa...|   175|  68|\n",
            "+-------+------+-------+-----------+----------+-------------+--------------------+------+----+\n",
            "only showing top 5 rows\n",
            "\n"
          ]
        }
      ]
    },
    {
      "cell_type": "code",
      "source": [
        "# Vamos filtrar duas condições: jogadores da seleção da Argentina acima de 1,80 m\n",
        "dados.filter((dados.Selecao == 'Argentina') & (dados.Altura > 180)).show()"
      ],
      "metadata": {
        "colab": {
          "base_uri": "https://localhost:8080/"
        },
        "id": "Laj3S3t58VqQ",
        "outputId": "b661f42f-f932-4ad6-ec10-5ebc2864a5c4"
      },
      "execution_count": 11,
      "outputs": [
        {
          "output_type": "stream",
          "name": "stdout",
          "text": [
            "+---------+------+-------+------------------+----------+-------------+--------------------+------+----+\n",
            "|  Selecao|Numero|Posicao|         Nome_FIFA|Nascimento|Nome Camiseta|                Time|Altura|Peso|\n",
            "+---------+------+-------+------------------+----------+-------------+--------------------+------+----+\n",
            "|Argentina|     4|     DF|  ANSALDI Cristian|20.09.1986|      ANSALDI|     Torino FC (ITA)|   181|  73|\n",
            "|Argentina|     9|     FW|   HIGUAIN Gonzalo|10.12.1987|      HIGUAÍN|   Juventus FC (ITA)|   184|  75|\n",
            "|Argentina|    23|     GK|CABALLERO Wilfredo|28.09.1981|    CABALLERO|    Chelsea FC (ENG)|   186|  80|\n",
            "|Argentina|     2|     DF|   MERCADO Gabriel|18.03.1987|      MERCADO|    Sevilla FC (ESP)|   181|  81|\n",
            "|Argentina|    17|     DF|  OTAMENDI Nicolas|12.02.1988|     OTAMENDI|Manchester City F...|   181|  81|\n",
            "|Argentina|    16|     DF|       ROJO Marcos|20.03.1990|         ROJO|Manchester United...|   189|  82|\n",
            "|Argentina|     6|     DF|    FAZIO Federico|17.03.1987|        FAZIO|       AS Roma (ITA)|   199|  85|\n",
            "|Argentina|    12|     GK|     ARMANI Franco|16.10.1986|       ARMANI|CA River Plate (ARG)|   189|  85|\n",
            "|Argentina|     1|     GK|     GUZMAN Nahuel|10.02.1986|       GUZMÁN|   Tigres UANL (MEX)|   192|  90|\n",
            "+---------+------+-------+------------------+----------+-------------+--------------------+------+----+\n",
            "\n"
          ]
        }
      ]
    },
    {
      "cell_type": "code",
      "source": [
        "# Vamos filtrar duas condições: jogadores da seleção do Brasil acima de 85 kg\n",
        "dados.filter((dados.Selecao == 'Brazil') & (dados.Peso > 85)).show()"
      ],
      "metadata": {
        "colab": {
          "base_uri": "https://localhost:8080/"
        },
        "id": "we64fviK9oxl",
        "outputId": "19fb5b0e-1d60-4839-ab9f-df12afc84fcf"
      },
      "execution_count": 12,
      "outputs": [
        {
          "output_type": "stream",
          "name": "stdout",
          "text": [
            "+-------+------+-------+--------------+----------+-------------+--------------------+------+----+\n",
            "|Selecao|Numero|Posicao|     Nome_FIFA|Nascimento|Nome Camiseta|                Time|Altura|Peso|\n",
            "+-------+------+-------+--------------+----------+-------------+--------------------+------+----+\n",
            "| Brazil|     8|     MF|RENATO AUGUSTO|08.02.1988|   R. AUGUSTO| Beijing Guoan (CHN)|   186|  86|\n",
            "| Brazil|    23|     GK|       EDERSON|17.08.1993|      EDERSON|Manchester City F...|   188|  86|\n",
            "| Brazil|     1|     GK|       ALISSON|02.10.1992|    A. BECKER|       AS Roma (ITA)|   193|  91|\n",
            "| Brazil|    16|     GK|        CASSIO|06.06.1987|       CASSIO|SC Corinthians (BRA)|   195|  92|\n",
            "+-------+------+-------+--------------+----------+-------------+--------------------+------+----+\n",
            "\n"
          ]
        }
      ]
    },
    {
      "cell_type": "code",
      "source": [
        "# Vamos filtrar os jogadores acima de 1,85 do Brasil e México\n",
        "dados.filter((dados.Altura > 185) & ((dados.Selecao == 'Brazil') | (dados.Selecao == 'Mexico'))).show()"
      ],
      "metadata": {
        "colab": {
          "base_uri": "https://localhost:8080/"
        },
        "id": "MfgYYp2s-NQ6",
        "outputId": "e6e2986c-7404-4f67-c51f-e7555b057f2a"
      },
      "execution_count": 13,
      "outputs": [
        {
          "output_type": "stream",
          "name": "stdout",
          "text": [
            "+-------+------+-------+----------------+----------+-------------+--------------------+------+----+\n",
            "|Selecao|Numero|Posicao|       Nome_FIFA|Nascimento|Nome Camiseta|                Time|Altura|Peso|\n",
            "+-------+------+-------+----------------+----------+-------------+--------------------+------+----+\n",
            "| Brazil|     3|     DF|         MIRANDA|07.09.1984|      MIRANDA|FC Internazionale...|   186|  78|\n",
            "| Brazil|     4|     DF|   PEDRO GEROMEL|21.09.1985|      GEROMEL|   Grêmio FBPA (BRA)|   190|  84|\n",
            "| Brazil|     8|     MF|  RENATO AUGUSTO|08.02.1988|   R. AUGUSTO| Beijing Guoan (CHN)|   186|  86|\n",
            "| Brazil|    23|     GK|         EDERSON|17.08.1993|      EDERSON|Manchester City F...|   188|  86|\n",
            "| Brazil|     1|     GK|         ALISSON|02.10.1992|    A. BECKER|       AS Roma (ITA)|   193|  91|\n",
            "| Brazil|    16|     GK|          CASSIO|06.06.1987|       CASSIO|SC Corinthians (BRA)|   195|  92|\n",
            "| Mexico|    21|     FW|   ALVAREZ Edson|24.10.1997|   E. ÁLVAREZ|  Club América (MEX)|   186|  72|\n",
            "| Mexico|     5|     DF|     REYES Diego|19.09.1992|     D. REYES|      FC Porto (POR)|   190|  77|\n",
            "| Mexico|     9|     FW|    JIMENEZ Raul|05.05.1991|         RAÚL|    SL Benfica (POR)|   188|  79|\n",
            "| Mexico|     2|     DF|      AYALA Hugo|31.03.1987|     H. AYALA|   Tigres UANL (MEX)|   188|  82|\n",
            "| Mexico|     3|     DF|  SALCEDO Carlos|29.09.1993|   C. SALCEDO|Eintracht Frankfu...|   189|  83|\n",
            "| Mexico|    12|     GK|TALAVERA Alfredo|18.09.1982|  A. TALAVERA|Deportivo Toluca ...|   188|  84|\n",
            "+-------+------+-------+----------------+----------+-------------+--------------------+------+----+\n",
            "\n"
          ]
        }
      ]
    },
    {
      "cell_type": "code",
      "source": [
        "# Vamos criar uma nova coluna usando a função withColumn. Coluna do ano 2018\n",
        "dados.withColumn('Ano', lit(2018)).show(5)"
      ],
      "metadata": {
        "colab": {
          "base_uri": "https://localhost:8080/"
        },
        "id": "DUHBNywU_BM4",
        "outputId": "f3c8ffb2-1558-4dc1-a536-6594222fab65"
      },
      "execution_count": 14,
      "outputs": [
        {
          "output_type": "stream",
          "name": "stdout",
          "text": [
            "+---------+------+-------+------------------+----------+-------------+--------------------+------+----+----+\n",
            "|  Selecao|Numero|Posicao|         Nome_FIFA|Nascimento|Nome Camiseta|                Time|Altura|Peso| Ano|\n",
            "+---------+------+-------+------------------+----------+-------------+--------------------+------+----+----+\n",
            "|Argentina|     3|     DF|TAGLIAFICO Nicolas|31.08.1992|   TAGLIAFICO|      AFC Ajax (NED)|   169|  65|2018|\n",
            "|Argentina|    22|     MF|    PAVON Cristian|21.01.1996|        PAVÓN|CA Boca Juniors (...|   169|  65|2018|\n",
            "|Argentina|    15|     MF|    LANZINI Manuel|15.02.1993|      LANZINI|West Ham United F...|   167|  66|2018|\n",
            "|Argentina|    18|     DF|    SALVIO Eduardo|13.07.1990|       SALVIO|    SL Benfica (POR)|   167|  69|2018|\n",
            "|Argentina|    10|     FW|      MESSI Lionel|24.06.1987|        MESSI|  FC Barcelona (ESP)|   170|  72|2018|\n",
            "+---------+------+-------+------------------+----------+-------------+--------------------+------+----+----+\n",
            "only showing top 5 rows\n",
            "\n"
          ]
        }
      ]
    },
    {
      "cell_type": "code",
      "source": [
        "# Vamos criar uma coluna nova com a abrevição do nome da seleção\n",
        "dados.withColumn('Sigla', substring(dados.Selecao, 1, 3)).show(5) # O Spark comça do 1 igual o R"
      ],
      "metadata": {
        "colab": {
          "base_uri": "https://localhost:8080/"
        },
        "id": "Y9ig22LnBdOE",
        "outputId": "b709102a-93fe-46db-c796-9039cfd9a26e"
      },
      "execution_count": 15,
      "outputs": [
        {
          "output_type": "stream",
          "name": "stdout",
          "text": [
            "+---------+------+-------+------------------+----------+-------------+--------------------+------+----+-----+\n",
            "|  Selecao|Numero|Posicao|         Nome_FIFA|Nascimento|Nome Camiseta|                Time|Altura|Peso|Sigla|\n",
            "+---------+------+-------+------------------+----------+-------------+--------------------+------+----+-----+\n",
            "|Argentina|     3|     DF|TAGLIAFICO Nicolas|31.08.1992|   TAGLIAFICO|      AFC Ajax (NED)|   169|  65|  Arg|\n",
            "|Argentina|    22|     MF|    PAVON Cristian|21.01.1996|        PAVÓN|CA Boca Juniors (...|   169|  65|  Arg|\n",
            "|Argentina|    15|     MF|    LANZINI Manuel|15.02.1993|      LANZINI|West Ham United F...|   167|  66|  Arg|\n",
            "|Argentina|    18|     DF|    SALVIO Eduardo|13.07.1990|       SALVIO|    SL Benfica (POR)|   167|  69|  Arg|\n",
            "|Argentina|    10|     FW|      MESSI Lionel|24.06.1987|        MESSI|  FC Barcelona (ESP)|   170|  72|  Arg|\n",
            "+---------+------+-------+------------------+----------+-------------+--------------------+------+----+-----+\n",
            "only showing top 5 rows\n",
            "\n"
          ]
        }
      ]
    },
    {
      "cell_type": "code",
      "source": [
        "# Vamos pegar o ano de nascimento dos jogadores\n",
        "# A função pega os últimos quatro dígitos (-4) e vai andar quatro casas (4)\n",
        "dados.withColumn('Ano_Nascimento', substring(dados.Nascimento, -4, 4)).show(5)"
      ],
      "metadata": {
        "colab": {
          "base_uri": "https://localhost:8080/"
        },
        "id": "rcUdOVerCvwH",
        "outputId": "f5ff2edc-970e-4b67-ae21-357ff1f15419"
      },
      "execution_count": 16,
      "outputs": [
        {
          "output_type": "stream",
          "name": "stdout",
          "text": [
            "+---------+------+-------+------------------+----------+-------------+--------------------+------+----+--------------+\n",
            "|  Selecao|Numero|Posicao|         Nome_FIFA|Nascimento|Nome Camiseta|                Time|Altura|Peso|Ano_Nascimento|\n",
            "+---------+------+-------+------------------+----------+-------------+--------------------+------+----+--------------+\n",
            "|Argentina|     3|     DF|TAGLIAFICO Nicolas|31.08.1992|   TAGLIAFICO|      AFC Ajax (NED)|   169|  65|          1992|\n",
            "|Argentina|    22|     MF|    PAVON Cristian|21.01.1996|        PAVÓN|CA Boca Juniors (...|   169|  65|          1996|\n",
            "|Argentina|    15|     MF|    LANZINI Manuel|15.02.1993|      LANZINI|West Ham United F...|   167|  66|          1993|\n",
            "|Argentina|    18|     DF|    SALVIO Eduardo|13.07.1990|       SALVIO|    SL Benfica (POR)|   167|  69|          1990|\n",
            "|Argentina|    10|     FW|      MESSI Lionel|24.06.1987|        MESSI|  FC Barcelona (ESP)|   170|  72|          1987|\n",
            "+---------+------+-------+------------------+----------+-------------+--------------------+------+----+--------------+\n",
            "only showing top 5 rows\n",
            "\n"
          ]
        }
      ]
    },
    {
      "cell_type": "code",
      "source": [
        "# Vamos salvar a consulta anterior\n",
        "dados = dados.withColumn('Ano_Nascimento', substring(dados.Nascimento, -4, 4))\n",
        "dados.filter(dados.Selecao == 'Denmark').show(5)"
      ],
      "metadata": {
        "colab": {
          "base_uri": "https://localhost:8080/"
        },
        "id": "s95NzbHvC_1I",
        "outputId": "9863b66d-94f7-402c-ce93-be0838291868"
      },
      "execution_count": 17,
      "outputs": [
        {
          "output_type": "stream",
          "name": "stdout",
          "text": [
            "+-------+------+-------+-------------------+----------+-------------+--------------------+------+----+--------------+\n",
            "|Selecao|Numero|Posicao|          Nome_FIFA|Nascimento|Nome Camiseta|                Time|Altura|Peso|Ano_Nascimento|\n",
            "+-------+------+-------+-------------------+----------+-------------+--------------------+------+----+--------------+\n",
            "|Denmark|     2|     MF|KROHN-DEHLI Michael|06.06.1983|  KROHN-DEHLI|Deportivo La Coru...|   171|  69|          1983|\n",
            "|Denmark|    23|     FW|        SISTO Pione|04.02.1995|        SISTO|    Celta Vigo (ESP)|   173|  69|          1995|\n",
            "|Denmark|    11|     FW| BRAITHWAITE Martin|05.06.1991|  BRAITHWAITE|FC Girondins Bord...|   180|  73|          1991|\n",
            "|Denmark|    10|     MF|  ERIKSEN Christian|14.02.1992|      ERIKSEN|Tottenham Hotspur...|   181|  76|          1992|\n",
            "|Denmark|     8|     MF|     DELANEY Thomas|03.09.1991|      DELANEY|SV Werder Bremen ...|   180|  78|          1991|\n",
            "+-------+------+-------+-------------------+----------+-------------+--------------------+------+----+--------------+\n",
            "only showing top 5 rows\n",
            "\n"
          ]
        }
      ]
    },
    {
      "cell_type": "code",
      "source": [
        "# Vamos concatenar o nome da camisa e o número\n",
        "dados.withColumn('Nome_camisa', concat_ws('-', 'Numero', 'Nome Camiseta')).show(5)"
      ],
      "metadata": {
        "colab": {
          "base_uri": "https://localhost:8080/"
        },
        "id": "_81IFMM8EZP4",
        "outputId": "5b6787a7-ef54-4fa1-e766-9a85a8f451f3"
      },
      "execution_count": 18,
      "outputs": [
        {
          "output_type": "stream",
          "name": "stdout",
          "text": [
            "+---------+------+-------+------------------+----------+-------------+--------------------+------+----+--------------+------------+\n",
            "|  Selecao|Numero|Posicao|         Nome_FIFA|Nascimento|Nome Camiseta|                Time|Altura|Peso|Ano_Nascimento| Nome_camisa|\n",
            "+---------+------+-------+------------------+----------+-------------+--------------------+------+----+--------------+------------+\n",
            "|Argentina|     3|     DF|TAGLIAFICO Nicolas|31.08.1992|   TAGLIAFICO|      AFC Ajax (NED)|   169|  65|          1992|3-TAGLIAFICO|\n",
            "|Argentina|    22|     MF|    PAVON Cristian|21.01.1996|        PAVÓN|CA Boca Juniors (...|   169|  65|          1996|    22-PAVÓN|\n",
            "|Argentina|    15|     MF|    LANZINI Manuel|15.02.1993|      LANZINI|West Ham United F...|   167|  66|          1993|  15-LANZINI|\n",
            "|Argentina|    18|     DF|    SALVIO Eduardo|13.07.1990|       SALVIO|    SL Benfica (POR)|   167|  69|          1990|   18-SALVIO|\n",
            "|Argentina|    10|     FW|      MESSI Lionel|24.06.1987|        MESSI|  FC Barcelona (ESP)|   170|  72|          1987|    10-MESSI|\n",
            "+---------+------+-------+------------------+----------+-------------+--------------------+------+----+--------------+------------+\n",
            "only showing top 5 rows\n",
            "\n"
          ]
        }
      ]
    },
    {
      "cell_type": "code",
      "source": [
        "# Vamos transformar a coluna ano para data. Ela está como string\n",
        "print(dados.printSchema()) # visualizando o tipo das colunas\n",
        "print()\n",
        "dados.withColumn('Ano_Nascimento', col('Ano_Nascimento').cast(IntegerType())).printSchema() # transformando a coluna Ano_Nascimento"
      ],
      "metadata": {
        "colab": {
          "base_uri": "https://localhost:8080/"
        },
        "id": "87MVPib7Ens1",
        "outputId": "bcce70b5-a845-45ad-cc76-45cf8540bf47"
      },
      "execution_count": 19,
      "outputs": [
        {
          "output_type": "stream",
          "name": "stdout",
          "text": [
            "root\n",
            " |-- Selecao: string (nullable = true)\n",
            " |-- Numero: integer (nullable = true)\n",
            " |-- Posicao: string (nullable = true)\n",
            " |-- Nome_FIFA: string (nullable = true)\n",
            " |-- Nascimento: string (nullable = true)\n",
            " |-- Nome Camiseta: string (nullable = true)\n",
            " |-- Time: string (nullable = true)\n",
            " |-- Altura: integer (nullable = true)\n",
            " |-- Peso: integer (nullable = true)\n",
            " |-- Ano_Nascimento: string (nullable = true)\n",
            "\n",
            "None\n",
            "\n",
            "root\n",
            " |-- Selecao: string (nullable = true)\n",
            " |-- Numero: integer (nullable = true)\n",
            " |-- Posicao: string (nullable = true)\n",
            " |-- Nome_FIFA: string (nullable = true)\n",
            " |-- Nascimento: string (nullable = true)\n",
            " |-- Nome Camiseta: string (nullable = true)\n",
            " |-- Time: string (nullable = true)\n",
            " |-- Altura: integer (nullable = true)\n",
            " |-- Peso: integer (nullable = true)\n",
            " |-- Ano_Nascimento: integer (nullable = true)\n",
            "\n"
          ]
        }
      ]
    },
    {
      "cell_type": "code",
      "source": [
        "# Vamos salvar os dados com a coluna corrigida\n",
        "dados = dados.withColumn('Ano_Nascimento', col('Ano_Nascimento').cast(IntegerType()))\n",
        "dados.printSchema()"
      ],
      "metadata": {
        "colab": {
          "base_uri": "https://localhost:8080/"
        },
        "id": "RJ9Teof5FoGU",
        "outputId": "c07280c6-65c3-4d57-bbda-96284c852f62"
      },
      "execution_count": 21,
      "outputs": [
        {
          "output_type": "stream",
          "name": "stdout",
          "text": [
            "root\n",
            " |-- Selecao: string (nullable = true)\n",
            " |-- Numero: integer (nullable = true)\n",
            " |-- Posicao: string (nullable = true)\n",
            " |-- Nome_FIFA: string (nullable = true)\n",
            " |-- Nascimento: string (nullable = true)\n",
            " |-- Nome Camiseta: string (nullable = true)\n",
            " |-- Time: string (nullable = true)\n",
            " |-- Altura: integer (nullable = true)\n",
            " |-- Peso: integer (nullable = true)\n",
            " |-- Ano_Nascimento: integer (nullable = true)\n",
            "\n"
          ]
        }
      ]
    },
    {
      "cell_type": "code",
      "source": [
        "# Corrigindo a data que está em string para data\n",
        "\n",
        "## Vamos fazer uma função \"cortar\" do dia\n",
        "dia = udf(lambda data: data.split('.')[0])\n",
        "\n",
        "dados.withColumn('Dia', dia(dados.Nascimento)).show(5)"
      ],
      "metadata": {
        "colab": {
          "base_uri": "https://localhost:8080/"
        },
        "id": "4F3nE4wCQ_uB",
        "outputId": "36029d81-80a1-4656-d6cb-101a83cbecdd"
      },
      "execution_count": 23,
      "outputs": [
        {
          "output_type": "stream",
          "name": "stdout",
          "text": [
            "+---------+------+-------+------------------+----------+-------------+--------------------+------+----+--------------+---+\n",
            "|  Selecao|Numero|Posicao|         Nome_FIFA|Nascimento|Nome Camiseta|                Time|Altura|Peso|Ano_Nascimento|Dia|\n",
            "+---------+------+-------+------------------+----------+-------------+--------------------+------+----+--------------+---+\n",
            "|Argentina|     3|     DF|TAGLIAFICO Nicolas|31.08.1992|   TAGLIAFICO|      AFC Ajax (NED)|   169|  65|          1992| 31|\n",
            "|Argentina|    22|     MF|    PAVON Cristian|21.01.1996|        PAVÓN|CA Boca Juniors (...|   169|  65|          1996| 21|\n",
            "|Argentina|    15|     MF|    LANZINI Manuel|15.02.1993|      LANZINI|West Ham United F...|   167|  66|          1993| 15|\n",
            "|Argentina|    18|     DF|    SALVIO Eduardo|13.07.1990|       SALVIO|    SL Benfica (POR)|   167|  69|          1990| 13|\n",
            "|Argentina|    10|     FW|      MESSI Lionel|24.06.1987|        MESSI|  FC Barcelona (ESP)|   170|  72|          1987| 24|\n",
            "+---------+------+-------+------------------+----------+-------------+--------------------+------+----+--------------+---+\n",
            "only showing top 5 rows\n",
            "\n"
          ]
        }
      ]
    },
    {
      "cell_type": "code",
      "source": [
        "# Vamos salvar no data frame\n",
        "dados = dados.withColumn('Dia', dia(dados.Nascimento))\n",
        "dados.show(5)"
      ],
      "metadata": {
        "colab": {
          "base_uri": "https://localhost:8080/"
        },
        "id": "mdM9yJkpUVky",
        "outputId": "83aaaae5-aea4-492e-db00-827dd46f607f"
      },
      "execution_count": 24,
      "outputs": [
        {
          "output_type": "stream",
          "name": "stdout",
          "text": [
            "+---------+------+-------+------------------+----------+-------------+--------------------+------+----+--------------+---+\n",
            "|  Selecao|Numero|Posicao|         Nome_FIFA|Nascimento|Nome Camiseta|                Time|Altura|Peso|Ano_Nascimento|Dia|\n",
            "+---------+------+-------+------------------+----------+-------------+--------------------+------+----+--------------+---+\n",
            "|Argentina|     3|     DF|TAGLIAFICO Nicolas|31.08.1992|   TAGLIAFICO|      AFC Ajax (NED)|   169|  65|          1992| 31|\n",
            "|Argentina|    22|     MF|    PAVON Cristian|21.01.1996|        PAVÓN|CA Boca Juniors (...|   169|  65|          1996| 21|\n",
            "|Argentina|    15|     MF|    LANZINI Manuel|15.02.1993|      LANZINI|West Ham United F...|   167|  66|          1993| 15|\n",
            "|Argentina|    18|     DF|    SALVIO Eduardo|13.07.1990|       SALVIO|    SL Benfica (POR)|   167|  69|          1990| 13|\n",
            "|Argentina|    10|     FW|      MESSI Lionel|24.06.1987|        MESSI|  FC Barcelona (ESP)|   170|  72|          1987| 24|\n",
            "+---------+------+-------+------------------+----------+-------------+--------------------+------+----+--------------+---+\n",
            "only showing top 5 rows\n",
            "\n"
          ]
        }
      ]
    },
    {
      "cell_type": "code",
      "source": [
        "# Vamos fazer uma função para cortar o mês\n",
        "mes = udf(lambda data: data.split('.')[1])\n",
        "dados = dados.withColumn('Mes', mes(dados.Nascimento))\n",
        "dados.show(5)"
      ],
      "metadata": {
        "colab": {
          "base_uri": "https://localhost:8080/"
        },
        "id": "HALtx8neUe26",
        "outputId": "468292e7-5de5-40ca-98f4-fd77808a8276"
      },
      "execution_count": 26,
      "outputs": [
        {
          "output_type": "stream",
          "name": "stdout",
          "text": [
            "+---------+------+-------+------------------+----------+-------------+--------------------+------+----+--------------+---+---+\n",
            "|  Selecao|Numero|Posicao|         Nome_FIFA|Nascimento|Nome Camiseta|                Time|Altura|Peso|Ano_Nascimento|Dia|Mes|\n",
            "+---------+------+-------+------------------+----------+-------------+--------------------+------+----+--------------+---+---+\n",
            "|Argentina|     3|     DF|TAGLIAFICO Nicolas|31.08.1992|   TAGLIAFICO|      AFC Ajax (NED)|   169|  65|          1992| 31| 08|\n",
            "|Argentina|    22|     MF|    PAVON Cristian|21.01.1996|        PAVÓN|CA Boca Juniors (...|   169|  65|          1996| 21| 01|\n",
            "|Argentina|    15|     MF|    LANZINI Manuel|15.02.1993|      LANZINI|West Ham United F...|   167|  66|          1993| 15| 02|\n",
            "|Argentina|    18|     DF|    SALVIO Eduardo|13.07.1990|       SALVIO|    SL Benfica (POR)|   167|  69|          1990| 13| 07|\n",
            "|Argentina|    10|     FW|      MESSI Lionel|24.06.1987|        MESSI|  FC Barcelona (ESP)|   170|  72|          1987| 24| 06|\n",
            "+---------+------+-------+------------------+----------+-------------+--------------------+------+----+--------------+---+---+\n",
            "only showing top 5 rows\n",
            "\n"
          ]
        }
      ]
    },
    {
      "cell_type": "code",
      "source": [
        "# Vamos criar a variável Data_Nascimento\n",
        "dados = dados.withColumn('Data_Nascimento', concat_ws('-', 'Ano_Nascimento', 'Mes', 'Dia'))\n",
        "dados.show(5)"
      ],
      "metadata": {
        "colab": {
          "base_uri": "https://localhost:8080/"
        },
        "id": "uOrjKkIGUy1n",
        "outputId": "7c5f27fc-6d18-43b6-9930-abf0fb2fbe63"
      },
      "execution_count": 29,
      "outputs": [
        {
          "output_type": "stream",
          "name": "stdout",
          "text": [
            "+---------+------+-------+------------------+----------+-------------+--------------------+------+----+--------------+---+---+---------------+\n",
            "|  Selecao|Numero|Posicao|         Nome_FIFA|Nascimento|Nome Camiseta|                Time|Altura|Peso|Ano_Nascimento|Dia|Mes|Data_Nascimento|\n",
            "+---------+------+-------+------------------+----------+-------------+--------------------+------+----+--------------+---+---+---------------+\n",
            "|Argentina|     3|     DF|TAGLIAFICO Nicolas|31.08.1992|   TAGLIAFICO|      AFC Ajax (NED)|   169|  65|          1992| 31| 08|     1992-08-31|\n",
            "|Argentina|    22|     MF|    PAVON Cristian|21.01.1996|        PAVÓN|CA Boca Juniors (...|   169|  65|          1996| 21| 01|     1996-01-21|\n",
            "|Argentina|    15|     MF|    LANZINI Manuel|15.02.1993|      LANZINI|West Ham United F...|   167|  66|          1993| 15| 02|     1993-02-15|\n",
            "|Argentina|    18|     DF|    SALVIO Eduardo|13.07.1990|       SALVIO|    SL Benfica (POR)|   167|  69|          1990| 13| 07|     1990-07-13|\n",
            "|Argentina|    10|     FW|      MESSI Lionel|24.06.1987|        MESSI|  FC Barcelona (ESP)|   170|  72|          1987| 24| 06|     1987-06-24|\n",
            "+---------+------+-------+------------------+----------+-------------+--------------------+------+----+--------------+---+---+---------------+\n",
            "only showing top 5 rows\n",
            "\n"
          ]
        }
      ]
    },
    {
      "cell_type": "code",
      "source": [
        "# Vamos transormar a coluna Data_Nascimento em tipo data\n",
        "dados.withColumn('Data_Nascimento', to_date(dados.Data_Nascimento, 'yyyy-MM-dd')).printSchema()\n",
        "\n",
        "# Salvando os dados\n",
        "dados = dados.withColumn('Data_Nascimento', to_date(dados.Data_Nascimento, 'yyyy-MM-dd'))"
      ],
      "metadata": {
        "colab": {
          "base_uri": "https://localhost:8080/"
        },
        "id": "gBrkG6eEVvz0",
        "outputId": "666d8e5b-66c2-4f03-dae5-fc49cc963a61"
      },
      "execution_count": 31,
      "outputs": [
        {
          "output_type": "stream",
          "name": "stdout",
          "text": [
            "root\n",
            " |-- Selecao: string (nullable = true)\n",
            " |-- Numero: integer (nullable = true)\n",
            " |-- Posicao: string (nullable = true)\n",
            " |-- Nome_FIFA: string (nullable = true)\n",
            " |-- Nascimento: string (nullable = true)\n",
            " |-- Nome Camiseta: string (nullable = true)\n",
            " |-- Time: string (nullable = true)\n",
            " |-- Altura: integer (nullable = true)\n",
            " |-- Peso: integer (nullable = true)\n",
            " |-- Ano_Nascimento: integer (nullable = true)\n",
            " |-- Dia: string (nullable = true)\n",
            " |-- Mes: string (nullable = true)\n",
            " |-- Data_Nascimento: date (nullable = true)\n",
            "\n"
          ]
        }
      ]
    },
    {
      "cell_type": "code",
      "source": [
        "# Vamos calcular a idade dos jogadores\n",
        "dados.withColumn('Idade', (year(current_date()) - dados.Ano_Nascimento)).show(5)"
      ],
      "metadata": {
        "colab": {
          "base_uri": "https://localhost:8080/"
        },
        "id": "Zft161NYWNXr",
        "outputId": "89149e50-7558-4bce-f545-bc36b36c00f1"
      },
      "execution_count": 33,
      "outputs": [
        {
          "output_type": "stream",
          "name": "stdout",
          "text": [
            "+---------+------+-------+------------------+----------+-------------+--------------------+------+----+--------------+---+---+---------------+-----+\n",
            "|  Selecao|Numero|Posicao|         Nome_FIFA|Nascimento|Nome Camiseta|                Time|Altura|Peso|Ano_Nascimento|Dia|Mes|Data_Nascimento|Idade|\n",
            "+---------+------+-------+------------------+----------+-------------+--------------------+------+----+--------------+---+---+---------------+-----+\n",
            "|Argentina|     3|     DF|TAGLIAFICO Nicolas|31.08.1992|   TAGLIAFICO|      AFC Ajax (NED)|   169|  65|          1992| 31| 08|     1992-08-31|   32|\n",
            "|Argentina|    22|     MF|    PAVON Cristian|21.01.1996|        PAVÓN|CA Boca Juniors (...|   169|  65|          1996| 21| 01|     1996-01-21|   28|\n",
            "|Argentina|    15|     MF|    LANZINI Manuel|15.02.1993|      LANZINI|West Ham United F...|   167|  66|          1993| 15| 02|     1993-02-15|   31|\n",
            "|Argentina|    18|     DF|    SALVIO Eduardo|13.07.1990|       SALVIO|    SL Benfica (POR)|   167|  69|          1990| 13| 07|     1990-07-13|   34|\n",
            "|Argentina|    10|     FW|      MESSI Lionel|24.06.1987|        MESSI|  FC Barcelona (ESP)|   170|  72|          1987| 24| 06|     1987-06-24|   37|\n",
            "+---------+------+-------+------------------+----------+-------------+--------------------+------+----+--------------+---+---+---------------+-----+\n",
            "only showing top 5 rows\n",
            "\n"
          ]
        }
      ]
    },
    {
      "cell_type": "code",
      "source": [
        "# Vamos salvar as idades\n",
        "dados = dados.withColumn('Idade', (year(current_date()) - dados.Ano_Nascimento))\n",
        "dados.show(5)"
      ],
      "metadata": {
        "colab": {
          "base_uri": "https://localhost:8080/"
        },
        "id": "M7dF7cJsXquM",
        "outputId": "71296692-5ad4-42f7-9551-939398b03a24"
      },
      "execution_count": 34,
      "outputs": [
        {
          "output_type": "stream",
          "name": "stdout",
          "text": [
            "+---------+------+-------+------------------+----------+-------------+--------------------+------+----+--------------+---+---+---------------+-----+\n",
            "|  Selecao|Numero|Posicao|         Nome_FIFA|Nascimento|Nome Camiseta|                Time|Altura|Peso|Ano_Nascimento|Dia|Mes|Data_Nascimento|Idade|\n",
            "+---------+------+-------+------------------+----------+-------------+--------------------+------+----+--------------+---+---+---------------+-----+\n",
            "|Argentina|     3|     DF|TAGLIAFICO Nicolas|31.08.1992|   TAGLIAFICO|      AFC Ajax (NED)|   169|  65|          1992| 31| 08|     1992-08-31|   32|\n",
            "|Argentina|    22|     MF|    PAVON Cristian|21.01.1996|        PAVÓN|CA Boca Juniors (...|   169|  65|          1996| 21| 01|     1996-01-21|   28|\n",
            "|Argentina|    15|     MF|    LANZINI Manuel|15.02.1993|      LANZINI|West Ham United F...|   167|  66|          1993| 15| 02|     1993-02-15|   31|\n",
            "|Argentina|    18|     DF|    SALVIO Eduardo|13.07.1990|       SALVIO|    SL Benfica (POR)|   167|  69|          1990| 13| 07|     1990-07-13|   34|\n",
            "|Argentina|    10|     FW|      MESSI Lionel|24.06.1987|        MESSI|  FC Barcelona (ESP)|   170|  72|          1987| 24| 06|     1987-06-24|   37|\n",
            "+---------+------+-------+------------------+----------+-------------+--------------------+------+----+--------------+---+---+---------------+-----+\n",
            "only showing top 5 rows\n",
            "\n"
          ]
        }
      ]
    },
    {
      "cell_type": "code",
      "source": [],
      "metadata": {
        "id": "XJ0I5VFEXvrs"
      },
      "execution_count": null,
      "outputs": []
    }
  ]
}
