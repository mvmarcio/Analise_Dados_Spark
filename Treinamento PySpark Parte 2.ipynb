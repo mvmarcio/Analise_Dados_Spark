{
  "nbformat": 4,
  "nbformat_minor": 0,
  "metadata": {
    "colab": {
      "provenance": [],
      "authorship_tag": "ABX9TyML1w+IfRb6Pukphs++gjQb",
      "include_colab_link": true
    },
    "kernelspec": {
      "name": "python3",
      "display_name": "Python 3"
    },
    "language_info": {
      "name": "python"
    }
  },
  "cells": [
    {
      "cell_type": "markdown",
      "metadata": {
        "id": "view-in-github",
        "colab_type": "text"
      },
      "source": [
        "<a href=\"https://colab.research.google.com/github/mvmarcio/Analise_Dados_Spark/blob/main/Treinamento%20PySpark%20Parte%202.ipynb\" target=\"_parent\"><img src=\"https://colab.research.google.com/assets/colab-badge.svg\" alt=\"Open In Colab\"/></a>"
      ]
    },
    {
      "cell_type": "markdown",
      "source": [
        "## **Análise de Dados com PySpark**\n",
        "\n",
        "O objeteivo deste documento é realizar uma análise de dados utilizando a linguagem PySpark. Serão realizadas as seguintes análises:\n",
        "\n",
        "\n",
        "\n",
        "*   Instalação PySpark\n",
        "*   Importação bibliotecas / funções\n",
        "*   Criar Sessão PySpark\n",
        "*   Criar data frame / ler arquivo\n",
        "*   Exibir data frame\n",
        "*   Verificar tipos de colunas\n",
        "*   Verificando dados nulos\n",
        "*   Selecionar Colunas\n",
        "*   Selecionar Colunas com ALIAS\n",
        "*   Organizar Select\n",
        "*   Filtrar o data frame\n",
        "*   Filtrar o data frame com 2 ou mais condições (AND / &)\n",
        "*   Filtrar o data frame com 2 ou mais condições (OR / |)\n",
        "*   Filtrar o data frame combinando & e | (And e OR)\n",
        "*   Criar novas colunas (usando função lit)\n",
        "*   Criar coluna condicional (usando função substring)\n",
        "*   Criar coluna condicional (usando função concat_ws)\n",
        "*   Renomear Colunas\n",
        "*   Alterar tipo de coluna\n",
        "*   Window Function 1 - Numero de linhas - row_number()\n",
        "*   Window Function 2 - Ranking 1 - rank()\n",
        "*   Window Function 3 - Ranking 2 - dense_rank()\n",
        "*   Window Function 4 - Porcentagem Ranking - percent_rank()\n",
        "*   Window Function 5 - Divisão em ' N ' partes - ntile()\n",
        "*   Window Function 6 - LAG / Degrau - lag()\n",
        "*   Window Function 7 - Lead / Degrau - lead()\n",
        "*   Agregações\n",
        "*   GroupBy + AGG 1\n",
        "*   Where\n",
        "*   Describe\n",
        "*   Window Function 8 - Função de agregação usando Window Function\n",
        "\n",
        "\n",
        "\n",
        "A análise será realizada com os dados dos jogadores da Copa do Mundo de 2018 e está disponível neste repositório ou neste link [Copa do Mundo 2018](https://https://www.kaggle.com/datasets/djamshed/fifa-world-cup-2018-players).\n",
        "\n",
        "\n",
        "\n",
        "O PySpark é a interface Python para o Apache Spark, que é um motor de processamento de dados em larga escala que permite realizar computação em clusters de forma distribuída. O PySpark facilita o uso do Spark com a linguagem Python, o que permite escrever os códigos e análises em Python enquanto aproveitam a potência e a escalabilidade do Spark."
      ],
      "metadata": {
        "id": "38YSBRK25LlZ"
      }
    },
    {
      "cell_type": "markdown",
      "source": [
        "### **1. Instalando a Biblioteca do PySpark**"
      ],
      "metadata": {
        "id": "jhS1rkn16tF8"
      }
    },
    {
      "cell_type": "code",
      "execution_count": 1,
      "metadata": {
        "id": "RwDV1YWZ3d1M",
        "colab": {
          "base_uri": "https://localhost:8080/"
        },
        "collapsed": true,
        "outputId": "b34406c4-8e94-4133-a3f8-1e733380f292"
      },
      "outputs": [
        {
          "output_type": "stream",
          "name": "stdout",
          "text": [
            "Collecting pyspark\n",
            "  Downloading pyspark-3.5.1.tar.gz (317.0 MB)\n",
            "\u001b[2K     \u001b[90m━━━━━━━━━━━━━━━━━━━━━━━━━━━━━━━━━━━━━━━━\u001b[0m \u001b[32m317.0/317.0 MB\u001b[0m \u001b[31m5.2 MB/s\u001b[0m eta \u001b[36m0:00:00\u001b[0m\n",
            "\u001b[?25h  Preparing metadata (setup.py) ... \u001b[?25l\u001b[?25hdone\n",
            "Requirement already satisfied: py4j==0.10.9.7 in /usr/local/lib/python3.10/dist-packages (from pyspark) (0.10.9.7)\n",
            "Building wheels for collected packages: pyspark\n",
            "  Building wheel for pyspark (setup.py) ... \u001b[?25l\u001b[?25hdone\n",
            "  Created wheel for pyspark: filename=pyspark-3.5.1-py2.py3-none-any.whl size=317488490 sha256=5e7f00010250bc3200ac331658db8be8c65fea42d5f8b05f414ba972b8381bcb\n",
            "  Stored in directory: /root/.cache/pip/wheels/80/1d/60/2c256ed38dddce2fdd93be545214a63e02fbd8d74fb0b7f3a6\n",
            "Successfully built pyspark\n",
            "Installing collected packages: pyspark\n",
            "Successfully installed pyspark-3.5.1\n"
          ]
        }
      ],
      "source": [
        "!pip install pyspark"
      ]
    },
    {
      "cell_type": "code",
      "source": [
        "# Vamos chamar a biblioteca externa\n",
        "from pyspark.sql import SparkSession # para gerar o cluster\n",
        "\n",
        "from pyspark.sql.functions import * # importa as funções SQL Spark\n",
        "\n",
        "from pyspark.sql.types import * # Suporte para data frames\n",
        "\n",
        "from pyspark.sql.window import Window # Importando window function"
      ],
      "metadata": {
        "id": "Xz-6R6Kn7Qfi"
      },
      "execution_count": 2,
      "outputs": []
    },
    {
      "cell_type": "markdown",
      "source": [
        "### **2. Vamos Criar o Cluster para a Análise**\n",
        "\n",
        "Para detalhes dessa funcionalidade acessar o link [PySpark](https://https://spark.apache.org/docs/latest/sql-getting-started.html)"
      ],
      "metadata": {
        "id": "-vMimNvU8C_H"
      }
    },
    {
      "cell_type": "code",
      "source": [
        "# Criando nosso cluster e sessão\n",
        "spark = (\n",
        "    SparkSession.builder\n",
        "    .master('local') # cluster local\n",
        "    .appName('PySpark_01') # nome de usuario\n",
        "    .getOrCreate()\n",
        ")"
      ],
      "metadata": {
        "id": "aR39Gwzb8tQp"
      },
      "execution_count": 3,
      "outputs": []
    },
    {
      "cell_type": "markdown",
      "source": [
        "### **3. Vamos Ler Nosso Arquivo da Análise**"
      ],
      "metadata": {
        "id": "TNISenru89Nl"
      }
    },
    {
      "cell_type": "code",
      "source": [
        "# Lendo arquivo\n",
        "dados = spark.read.csv('wc2018-players.csv', header=True, inferSchema=True)\n",
        "# O argumento header é para dizer que nossos dados possuem cabeçalho\n",
        "# O argumento inferSchema é para que os dados sejam automaticamente editados como numéricos ou strings. Se não for colocado todos são lidos como strings\n",
        "\n",
        "dados.show(5) # mostrando as primeiras 5 linhas"
      ],
      "metadata": {
        "colab": {
          "base_uri": "https://localhost:8080/"
        },
        "id": "0Gh8-qrV9G4R",
        "outputId": "0dbd101f-8f57-4647-8f94-27dfbc6cd707"
      },
      "execution_count": 4,
      "outputs": [
        {
          "output_type": "stream",
          "name": "stdout",
          "text": [
            "+---------+---+----+------------------+----------+----------+--------------------+------+------+\n",
            "|     Team|  #|Pos.| FIFA Popular Name|Birth Date|Shirt Name|                Club|Height|Weight|\n",
            "+---------+---+----+------------------+----------+----------+--------------------+------+------+\n",
            "|Argentina|  3|  DF|TAGLIAFICO Nicolas|31.08.1992|TAGLIAFICO|      AFC Ajax (NED)|   169|    65|\n",
            "|Argentina| 22|  MF|    PAVON Cristian|21.01.1996|     PAVÓN|CA Boca Juniors (...|   169|    65|\n",
            "|Argentina| 15|  MF|    LANZINI Manuel|15.02.1993|   LANZINI|West Ham United F...|   167|    66|\n",
            "|Argentina| 18|  DF|    SALVIO Eduardo|13.07.1990|    SALVIO|    SL Benfica (POR)|   167|    69|\n",
            "|Argentina| 10|  FW|      MESSI Lionel|24.06.1987|     MESSI|  FC Barcelona (ESP)|   170|    72|\n",
            "+---------+---+----+------------------+----------+----------+--------------------+------+------+\n",
            "only showing top 5 rows\n",
            "\n"
          ]
        }
      ]
    },
    {
      "cell_type": "code",
      "source": [
        "# Vamos verificar os tipos das variáveis\n",
        "dados.printSchema()"
      ],
      "metadata": {
        "colab": {
          "base_uri": "https://localhost:8080/"
        },
        "id": "6Ku9rKmQ9xOv",
        "outputId": "fb00dd12-7b40-4ab0-985e-259fe587a0bb"
      },
      "execution_count": 5,
      "outputs": [
        {
          "output_type": "stream",
          "name": "stdout",
          "text": [
            "root\n",
            " |-- Team: string (nullable = true)\n",
            " |-- #: integer (nullable = true)\n",
            " |-- Pos.: string (nullable = true)\n",
            " |-- FIFA Popular Name: string (nullable = true)\n",
            " |-- Birth Date: string (nullable = true)\n",
            " |-- Shirt Name: string (nullable = true)\n",
            " |-- Club: string (nullable = true)\n",
            " |-- Height: integer (nullable = true)\n",
            " |-- Weight: integer (nullable = true)\n",
            "\n"
          ]
        }
      ]
    },
    {
      "cell_type": "code",
      "source": [
        "# Vamos renomear as colunas com a função withColumnRenamed\n",
        "dados = dados.withColumnRenamed('Pos.', 'Posicao') \\\n",
        ".withColumnRenamed('Team', 'Selecao').withColumnRenamed('#', 'Numero').withColumnRenamed('Pos.', 'Posicao')\\\n",
        ".withColumnRenamed('FIFA Popular Name', 'Nome_FIFA').withColumnRenamed('Birth Date', 'Nascimento')\\\n",
        ".withColumnRenamed('Shirt Name', 'Nome Camiseta').withColumnRenamed('Club', 'Time').withColumnRenamed('Height', 'Altura')\\\n",
        ".withColumnRenamed('Weight', 'Peso')\n",
        "\n",
        "dados.show(5)"
      ],
      "metadata": {
        "colab": {
          "base_uri": "https://localhost:8080/"
        },
        "id": "LxDPk4gz_HEY",
        "outputId": "b0d75f33-dfff-4b84-a37f-55650c3662ce"
      },
      "execution_count": 6,
      "outputs": [
        {
          "output_type": "stream",
          "name": "stdout",
          "text": [
            "+---------+------+-------+------------------+----------+-------------+--------------------+------+----+\n",
            "|  Selecao|Numero|Posicao|         Nome_FIFA|Nascimento|Nome Camiseta|                Time|Altura|Peso|\n",
            "+---------+------+-------+------------------+----------+-------------+--------------------+------+----+\n",
            "|Argentina|     3|     DF|TAGLIAFICO Nicolas|31.08.1992|   TAGLIAFICO|      AFC Ajax (NED)|   169|  65|\n",
            "|Argentina|    22|     MF|    PAVON Cristian|21.01.1996|        PAVÓN|CA Boca Juniors (...|   169|  65|\n",
            "|Argentina|    15|     MF|    LANZINI Manuel|15.02.1993|      LANZINI|West Ham United F...|   167|  66|\n",
            "|Argentina|    18|     DF|    SALVIO Eduardo|13.07.1990|       SALVIO|    SL Benfica (POR)|   167|  69|\n",
            "|Argentina|    10|     FW|      MESSI Lionel|24.06.1987|        MESSI|  FC Barcelona (ESP)|   170|  72|\n",
            "+---------+------+-------+------------------+----------+-------------+--------------------+------+----+\n",
            "only showing top 5 rows\n",
            "\n"
          ]
        }
      ]
    },
    {
      "cell_type": "code",
      "source": [
        "# Vamos verificar os valores nulos\n",
        "for colunas in dados.columns:\n",
        "  print(colunas, dados.filter(dados[colunas].isNull()).count())"
      ],
      "metadata": {
        "colab": {
          "base_uri": "https://localhost:8080/"
        },
        "id": "IRntn-4x-eXm",
        "outputId": "c5ee7c34-f15a-4ebc-b8c3-af90238e8ccf"
      },
      "execution_count": 7,
      "outputs": [
        {
          "output_type": "stream",
          "name": "stdout",
          "text": [
            "Selecao 0\n",
            "Numero 0\n",
            "Posicao 0\n",
            "Nome_FIFA 0\n",
            "Nascimento 0\n",
            "Nome Camiseta 0\n",
            "Time 0\n",
            "Altura 0\n",
            "Peso 0\n"
          ]
        }
      ]
    },
    {
      "cell_type": "code",
      "source": [
        "# Vamos selecionar colunas do data frame com a função select\n",
        "dados.select('Selecao', 'Altura').show(5)"
      ],
      "metadata": {
        "colab": {
          "base_uri": "https://localhost:8080/"
        },
        "id": "fQFyND3T_DPq",
        "outputId": "6df572dc-b66b-48d7-b473-b0bd483e5e36"
      },
      "execution_count": 8,
      "outputs": [
        {
          "output_type": "stream",
          "name": "stdout",
          "text": [
            "+---------+------+\n",
            "|  Selecao|Altura|\n",
            "+---------+------+\n",
            "|Argentina|   169|\n",
            "|Argentina|   169|\n",
            "|Argentina|   167|\n",
            "|Argentina|   167|\n",
            "|Argentina|   170|\n",
            "+---------+------+\n",
            "only showing top 5 rows\n",
            "\n"
          ]
        }
      ]
    },
    {
      "cell_type": "code",
      "source": [
        " # Vamos filtrar dados da seleção brasileira\n",
        " dados.filter(dados.Selecao == 'Brazil').show(5) # exibe as 5 primeiras linhas do Brasil"
      ],
      "metadata": {
        "id": "66wxll0PA-Li",
        "colab": {
          "base_uri": "https://localhost:8080/"
        },
        "outputId": "617159a5-2879-46fe-dfb4-3bdf04c5c774"
      },
      "execution_count": 9,
      "outputs": [
        {
          "output_type": "stream",
          "name": "stdout",
          "text": [
            "+-------+------+-------+-----------+----------+-------------+--------------------+------+----+\n",
            "|Selecao|Numero|Posicao|  Nome_FIFA|Nascimento|Nome Camiseta|                Time|Altura|Peso|\n",
            "+-------+------+-------+-----------+----------+-------------+--------------------+------+----+\n",
            "| Brazil|    18|     MF|       FRED|05.03.1993|         FRED|FC Shakhtar Donet...|   169|  64|\n",
            "| Brazil|    21|     FW|     TAISON|13.01.1988|       TAISON|FC Shakhtar Donet...|   172|  64|\n",
            "| Brazil|    17|     MF|FERNANDINHO|04.05.1985|  FERNANDINHO|Manchester City F...|   179|  67|\n",
            "| Brazil|    22|     DF|     FAGNER|11.06.1989|       FAGNER|SC Corinthians (BRA)|   168|  67|\n",
            "| Brazil|    10|     FW|     NEYMAR|05.02.1992|    NEYMAR JR|Paris Saint-Germa...|   175|  68|\n",
            "+-------+------+-------+-----------+----------+-------------+--------------------+------+----+\n",
            "only showing top 5 rows\n",
            "\n"
          ]
        }
      ]
    },
    {
      "cell_type": "code",
      "source": [
        "# Vamos filtrar a seleção brasileira com outra função\n",
        "dados.filter('Selecao == \"Brazil\" ').show(5) # exibe as primeiras 5 linhas"
      ],
      "metadata": {
        "colab": {
          "base_uri": "https://localhost:8080/"
        },
        "id": "X97XWWig8HhE",
        "outputId": "95141d09-4da4-4b00-cb7a-167cf10da76c"
      },
      "execution_count": 10,
      "outputs": [
        {
          "output_type": "stream",
          "name": "stdout",
          "text": [
            "+-------+------+-------+-----------+----------+-------------+--------------------+------+----+\n",
            "|Selecao|Numero|Posicao|  Nome_FIFA|Nascimento|Nome Camiseta|                Time|Altura|Peso|\n",
            "+-------+------+-------+-----------+----------+-------------+--------------------+------+----+\n",
            "| Brazil|    18|     MF|       FRED|05.03.1993|         FRED|FC Shakhtar Donet...|   169|  64|\n",
            "| Brazil|    21|     FW|     TAISON|13.01.1988|       TAISON|FC Shakhtar Donet...|   172|  64|\n",
            "| Brazil|    17|     MF|FERNANDINHO|04.05.1985|  FERNANDINHO|Manchester City F...|   179|  67|\n",
            "| Brazil|    22|     DF|     FAGNER|11.06.1989|       FAGNER|SC Corinthians (BRA)|   168|  67|\n",
            "| Brazil|    10|     FW|     NEYMAR|05.02.1992|    NEYMAR JR|Paris Saint-Germa...|   175|  68|\n",
            "+-------+------+-------+-----------+----------+-------------+--------------------+------+----+\n",
            "only showing top 5 rows\n",
            "\n"
          ]
        }
      ]
    },
    {
      "cell_type": "code",
      "source": [
        "# Vamos filtrar duas condições: jogadores da seleção da Argentina acima de 1,80 m\n",
        "dados.filter((dados.Selecao == 'Argentina') & (dados.Altura > 180)).show()"
      ],
      "metadata": {
        "colab": {
          "base_uri": "https://localhost:8080/"
        },
        "id": "Laj3S3t58VqQ",
        "outputId": "88a2ade6-2b3a-402b-9e56-60c8bcb8bb38"
      },
      "execution_count": 11,
      "outputs": [
        {
          "output_type": "stream",
          "name": "stdout",
          "text": [
            "+---------+------+-------+------------------+----------+-------------+--------------------+------+----+\n",
            "|  Selecao|Numero|Posicao|         Nome_FIFA|Nascimento|Nome Camiseta|                Time|Altura|Peso|\n",
            "+---------+------+-------+------------------+----------+-------------+--------------------+------+----+\n",
            "|Argentina|     4|     DF|  ANSALDI Cristian|20.09.1986|      ANSALDI|     Torino FC (ITA)|   181|  73|\n",
            "|Argentina|     9|     FW|   HIGUAIN Gonzalo|10.12.1987|      HIGUAÍN|   Juventus FC (ITA)|   184|  75|\n",
            "|Argentina|    23|     GK|CABALLERO Wilfredo|28.09.1981|    CABALLERO|    Chelsea FC (ENG)|   186|  80|\n",
            "|Argentina|     2|     DF|   MERCADO Gabriel|18.03.1987|      MERCADO|    Sevilla FC (ESP)|   181|  81|\n",
            "|Argentina|    17|     DF|  OTAMENDI Nicolas|12.02.1988|     OTAMENDI|Manchester City F...|   181|  81|\n",
            "|Argentina|    16|     DF|       ROJO Marcos|20.03.1990|         ROJO|Manchester United...|   189|  82|\n",
            "|Argentina|     6|     DF|    FAZIO Federico|17.03.1987|        FAZIO|       AS Roma (ITA)|   199|  85|\n",
            "|Argentina|    12|     GK|     ARMANI Franco|16.10.1986|       ARMANI|CA River Plate (ARG)|   189|  85|\n",
            "|Argentina|     1|     GK|     GUZMAN Nahuel|10.02.1986|       GUZMÁN|   Tigres UANL (MEX)|   192|  90|\n",
            "+---------+------+-------+------------------+----------+-------------+--------------------+------+----+\n",
            "\n"
          ]
        }
      ]
    },
    {
      "cell_type": "code",
      "source": [
        "# Vamos filtrar duas condições: jogadores da seleção do Brasil acima de 85 kg\n",
        "dados.filter((dados.Selecao == 'Brazil') & (dados.Peso > 85)).show()"
      ],
      "metadata": {
        "colab": {
          "base_uri": "https://localhost:8080/"
        },
        "id": "we64fviK9oxl",
        "outputId": "4c8ed047-f1e3-4572-8a96-3ea2adbc1862"
      },
      "execution_count": 12,
      "outputs": [
        {
          "output_type": "stream",
          "name": "stdout",
          "text": [
            "+-------+------+-------+--------------+----------+-------------+--------------------+------+----+\n",
            "|Selecao|Numero|Posicao|     Nome_FIFA|Nascimento|Nome Camiseta|                Time|Altura|Peso|\n",
            "+-------+------+-------+--------------+----------+-------------+--------------------+------+----+\n",
            "| Brazil|     8|     MF|RENATO AUGUSTO|08.02.1988|   R. AUGUSTO| Beijing Guoan (CHN)|   186|  86|\n",
            "| Brazil|    23|     GK|       EDERSON|17.08.1993|      EDERSON|Manchester City F...|   188|  86|\n",
            "| Brazil|     1|     GK|       ALISSON|02.10.1992|    A. BECKER|       AS Roma (ITA)|   193|  91|\n",
            "| Brazil|    16|     GK|        CASSIO|06.06.1987|       CASSIO|SC Corinthians (BRA)|   195|  92|\n",
            "+-------+------+-------+--------------+----------+-------------+--------------------+------+----+\n",
            "\n"
          ]
        }
      ]
    },
    {
      "cell_type": "code",
      "source": [
        "# Vamos filtrar os jogadores acima de 1,85 do Brasil e México\n",
        "dados.filter((dados.Altura > 185) & ((dados.Selecao == 'Brazil') | (dados.Selecao == 'Mexico'))).show()"
      ],
      "metadata": {
        "colab": {
          "base_uri": "https://localhost:8080/"
        },
        "id": "MfgYYp2s-NQ6",
        "outputId": "7325c43a-9444-4ad0-cf27-60ea727705fe"
      },
      "execution_count": 13,
      "outputs": [
        {
          "output_type": "stream",
          "name": "stdout",
          "text": [
            "+-------+------+-------+----------------+----------+-------------+--------------------+------+----+\n",
            "|Selecao|Numero|Posicao|       Nome_FIFA|Nascimento|Nome Camiseta|                Time|Altura|Peso|\n",
            "+-------+------+-------+----------------+----------+-------------+--------------------+------+----+\n",
            "| Brazil|     3|     DF|         MIRANDA|07.09.1984|      MIRANDA|FC Internazionale...|   186|  78|\n",
            "| Brazil|     4|     DF|   PEDRO GEROMEL|21.09.1985|      GEROMEL|   Grêmio FBPA (BRA)|   190|  84|\n",
            "| Brazil|     8|     MF|  RENATO AUGUSTO|08.02.1988|   R. AUGUSTO| Beijing Guoan (CHN)|   186|  86|\n",
            "| Brazil|    23|     GK|         EDERSON|17.08.1993|      EDERSON|Manchester City F...|   188|  86|\n",
            "| Brazil|     1|     GK|         ALISSON|02.10.1992|    A. BECKER|       AS Roma (ITA)|   193|  91|\n",
            "| Brazil|    16|     GK|          CASSIO|06.06.1987|       CASSIO|SC Corinthians (BRA)|   195|  92|\n",
            "| Mexico|    21|     FW|   ALVAREZ Edson|24.10.1997|   E. ÁLVAREZ|  Club América (MEX)|   186|  72|\n",
            "| Mexico|     5|     DF|     REYES Diego|19.09.1992|     D. REYES|      FC Porto (POR)|   190|  77|\n",
            "| Mexico|     9|     FW|    JIMENEZ Raul|05.05.1991|         RAÚL|    SL Benfica (POR)|   188|  79|\n",
            "| Mexico|     2|     DF|      AYALA Hugo|31.03.1987|     H. AYALA|   Tigres UANL (MEX)|   188|  82|\n",
            "| Mexico|     3|     DF|  SALCEDO Carlos|29.09.1993|   C. SALCEDO|Eintracht Frankfu...|   189|  83|\n",
            "| Mexico|    12|     GK|TALAVERA Alfredo|18.09.1982|  A. TALAVERA|Deportivo Toluca ...|   188|  84|\n",
            "+-------+------+-------+----------------+----------+-------------+--------------------+------+----+\n",
            "\n"
          ]
        }
      ]
    },
    {
      "cell_type": "code",
      "source": [
        "# Vamos criar uma nova coluna usando a função withColumn. Coluna do ano 2018\n",
        "dados.withColumn('Ano', lit(2018)).show(5)"
      ],
      "metadata": {
        "colab": {
          "base_uri": "https://localhost:8080/"
        },
        "id": "DUHBNywU_BM4",
        "outputId": "94eeb56e-9c9a-40d9-aeeb-7073ebda0ea0"
      },
      "execution_count": 14,
      "outputs": [
        {
          "output_type": "stream",
          "name": "stdout",
          "text": [
            "+---------+------+-------+------------------+----------+-------------+--------------------+------+----+----+\n",
            "|  Selecao|Numero|Posicao|         Nome_FIFA|Nascimento|Nome Camiseta|                Time|Altura|Peso| Ano|\n",
            "+---------+------+-------+------------------+----------+-------------+--------------------+------+----+----+\n",
            "|Argentina|     3|     DF|TAGLIAFICO Nicolas|31.08.1992|   TAGLIAFICO|      AFC Ajax (NED)|   169|  65|2018|\n",
            "|Argentina|    22|     MF|    PAVON Cristian|21.01.1996|        PAVÓN|CA Boca Juniors (...|   169|  65|2018|\n",
            "|Argentina|    15|     MF|    LANZINI Manuel|15.02.1993|      LANZINI|West Ham United F...|   167|  66|2018|\n",
            "|Argentina|    18|     DF|    SALVIO Eduardo|13.07.1990|       SALVIO|    SL Benfica (POR)|   167|  69|2018|\n",
            "|Argentina|    10|     FW|      MESSI Lionel|24.06.1987|        MESSI|  FC Barcelona (ESP)|   170|  72|2018|\n",
            "+---------+------+-------+------------------+----------+-------------+--------------------+------+----+----+\n",
            "only showing top 5 rows\n",
            "\n"
          ]
        }
      ]
    },
    {
      "cell_type": "code",
      "source": [
        "# Vamos criar uma coluna nova com a abrevição do nome da seleção\n",
        "dados.withColumn('Sigla', substring(dados.Selecao, 1, 3)).show(5) # O Spark comça do 1 igual o R"
      ],
      "metadata": {
        "colab": {
          "base_uri": "https://localhost:8080/"
        },
        "id": "Y9ig22LnBdOE",
        "outputId": "7a21957a-1d9f-4faa-da04-5e6c78e14400"
      },
      "execution_count": 15,
      "outputs": [
        {
          "output_type": "stream",
          "name": "stdout",
          "text": [
            "+---------+------+-------+------------------+----------+-------------+--------------------+------+----+-----+\n",
            "|  Selecao|Numero|Posicao|         Nome_FIFA|Nascimento|Nome Camiseta|                Time|Altura|Peso|Sigla|\n",
            "+---------+------+-------+------------------+----------+-------------+--------------------+------+----+-----+\n",
            "|Argentina|     3|     DF|TAGLIAFICO Nicolas|31.08.1992|   TAGLIAFICO|      AFC Ajax (NED)|   169|  65|  Arg|\n",
            "|Argentina|    22|     MF|    PAVON Cristian|21.01.1996|        PAVÓN|CA Boca Juniors (...|   169|  65|  Arg|\n",
            "|Argentina|    15|     MF|    LANZINI Manuel|15.02.1993|      LANZINI|West Ham United F...|   167|  66|  Arg|\n",
            "|Argentina|    18|     DF|    SALVIO Eduardo|13.07.1990|       SALVIO|    SL Benfica (POR)|   167|  69|  Arg|\n",
            "|Argentina|    10|     FW|      MESSI Lionel|24.06.1987|        MESSI|  FC Barcelona (ESP)|   170|  72|  Arg|\n",
            "+---------+------+-------+------------------+----------+-------------+--------------------+------+----+-----+\n",
            "only showing top 5 rows\n",
            "\n"
          ]
        }
      ]
    },
    {
      "cell_type": "code",
      "source": [
        "# Vamos pegar o ano de nascimento dos jogadores\n",
        "# A função pega os últimos quatro dígitos (-4) e vai andar quatro casas (4)\n",
        "dados.withColumn('Ano_Nascimento', substring(dados.Nascimento, -4, 4)).show(5)"
      ],
      "metadata": {
        "colab": {
          "base_uri": "https://localhost:8080/"
        },
        "id": "rcUdOVerCvwH",
        "outputId": "d07644fc-7bba-4bc8-9e5f-18a16a6e9e7b"
      },
      "execution_count": 16,
      "outputs": [
        {
          "output_type": "stream",
          "name": "stdout",
          "text": [
            "+---------+------+-------+------------------+----------+-------------+--------------------+------+----+--------------+\n",
            "|  Selecao|Numero|Posicao|         Nome_FIFA|Nascimento|Nome Camiseta|                Time|Altura|Peso|Ano_Nascimento|\n",
            "+---------+------+-------+------------------+----------+-------------+--------------------+------+----+--------------+\n",
            "|Argentina|     3|     DF|TAGLIAFICO Nicolas|31.08.1992|   TAGLIAFICO|      AFC Ajax (NED)|   169|  65|          1992|\n",
            "|Argentina|    22|     MF|    PAVON Cristian|21.01.1996|        PAVÓN|CA Boca Juniors (...|   169|  65|          1996|\n",
            "|Argentina|    15|     MF|    LANZINI Manuel|15.02.1993|      LANZINI|West Ham United F...|   167|  66|          1993|\n",
            "|Argentina|    18|     DF|    SALVIO Eduardo|13.07.1990|       SALVIO|    SL Benfica (POR)|   167|  69|          1990|\n",
            "|Argentina|    10|     FW|      MESSI Lionel|24.06.1987|        MESSI|  FC Barcelona (ESP)|   170|  72|          1987|\n",
            "+---------+------+-------+------------------+----------+-------------+--------------------+------+----+--------------+\n",
            "only showing top 5 rows\n",
            "\n"
          ]
        }
      ]
    },
    {
      "cell_type": "code",
      "source": [
        "# Vamos salvar a consulta anterior\n",
        "dados = dados.withColumn('Ano_Nascimento', substring(dados.Nascimento, -4, 4))\n",
        "dados.filter(dados.Selecao == 'Denmark').show(5)"
      ],
      "metadata": {
        "colab": {
          "base_uri": "https://localhost:8080/"
        },
        "id": "s95NzbHvC_1I",
        "outputId": "8d832ee3-1f87-45fa-a607-72b61b3eb6e7"
      },
      "execution_count": 17,
      "outputs": [
        {
          "output_type": "stream",
          "name": "stdout",
          "text": [
            "+-------+------+-------+-------------------+----------+-------------+--------------------+------+----+--------------+\n",
            "|Selecao|Numero|Posicao|          Nome_FIFA|Nascimento|Nome Camiseta|                Time|Altura|Peso|Ano_Nascimento|\n",
            "+-------+------+-------+-------------------+----------+-------------+--------------------+------+----+--------------+\n",
            "|Denmark|     2|     MF|KROHN-DEHLI Michael|06.06.1983|  KROHN-DEHLI|Deportivo La Coru...|   171|  69|          1983|\n",
            "|Denmark|    23|     FW|        SISTO Pione|04.02.1995|        SISTO|    Celta Vigo (ESP)|   173|  69|          1995|\n",
            "|Denmark|    11|     FW| BRAITHWAITE Martin|05.06.1991|  BRAITHWAITE|FC Girondins Bord...|   180|  73|          1991|\n",
            "|Denmark|    10|     MF|  ERIKSEN Christian|14.02.1992|      ERIKSEN|Tottenham Hotspur...|   181|  76|          1992|\n",
            "|Denmark|     8|     MF|     DELANEY Thomas|03.09.1991|      DELANEY|SV Werder Bremen ...|   180|  78|          1991|\n",
            "+-------+------+-------+-------------------+----------+-------------+--------------------+------+----+--------------+\n",
            "only showing top 5 rows\n",
            "\n"
          ]
        }
      ]
    },
    {
      "cell_type": "code",
      "source": [
        "# Vamos concatenar o nome da camisa e o número\n",
        "dados.withColumn('Nome_camisa', concat_ws('-', 'Numero', 'Nome Camiseta')).show(5)"
      ],
      "metadata": {
        "colab": {
          "base_uri": "https://localhost:8080/"
        },
        "id": "_81IFMM8EZP4",
        "outputId": "c30f15c8-de32-403c-eb48-d094a8de0907"
      },
      "execution_count": 18,
      "outputs": [
        {
          "output_type": "stream",
          "name": "stdout",
          "text": [
            "+---------+------+-------+------------------+----------+-------------+--------------------+------+----+--------------+------------+\n",
            "|  Selecao|Numero|Posicao|         Nome_FIFA|Nascimento|Nome Camiseta|                Time|Altura|Peso|Ano_Nascimento| Nome_camisa|\n",
            "+---------+------+-------+------------------+----------+-------------+--------------------+------+----+--------------+------------+\n",
            "|Argentina|     3|     DF|TAGLIAFICO Nicolas|31.08.1992|   TAGLIAFICO|      AFC Ajax (NED)|   169|  65|          1992|3-TAGLIAFICO|\n",
            "|Argentina|    22|     MF|    PAVON Cristian|21.01.1996|        PAVÓN|CA Boca Juniors (...|   169|  65|          1996|    22-PAVÓN|\n",
            "|Argentina|    15|     MF|    LANZINI Manuel|15.02.1993|      LANZINI|West Ham United F...|   167|  66|          1993|  15-LANZINI|\n",
            "|Argentina|    18|     DF|    SALVIO Eduardo|13.07.1990|       SALVIO|    SL Benfica (POR)|   167|  69|          1990|   18-SALVIO|\n",
            "|Argentina|    10|     FW|      MESSI Lionel|24.06.1987|        MESSI|  FC Barcelona (ESP)|   170|  72|          1987|    10-MESSI|\n",
            "+---------+------+-------+------------------+----------+-------------+--------------------+------+----+--------------+------------+\n",
            "only showing top 5 rows\n",
            "\n"
          ]
        }
      ]
    },
    {
      "cell_type": "code",
      "source": [
        "# Vamos transformar a coluna ano para data. Ela está como string\n",
        "print(dados.printSchema()) # visualizando o tipo das colunas\n",
        "print()\n",
        "dados.withColumn('Ano_Nascimento', col('Ano_Nascimento').cast(IntegerType())).printSchema() # transformando a coluna Ano_Nascimento"
      ],
      "metadata": {
        "colab": {
          "base_uri": "https://localhost:8080/"
        },
        "id": "87MVPib7Ens1",
        "outputId": "f51799ef-e85b-4ea4-e075-8c8df507e270"
      },
      "execution_count": 19,
      "outputs": [
        {
          "output_type": "stream",
          "name": "stdout",
          "text": [
            "root\n",
            " |-- Selecao: string (nullable = true)\n",
            " |-- Numero: integer (nullable = true)\n",
            " |-- Posicao: string (nullable = true)\n",
            " |-- Nome_FIFA: string (nullable = true)\n",
            " |-- Nascimento: string (nullable = true)\n",
            " |-- Nome Camiseta: string (nullable = true)\n",
            " |-- Time: string (nullable = true)\n",
            " |-- Altura: integer (nullable = true)\n",
            " |-- Peso: integer (nullable = true)\n",
            " |-- Ano_Nascimento: string (nullable = true)\n",
            "\n",
            "None\n",
            "\n",
            "root\n",
            " |-- Selecao: string (nullable = true)\n",
            " |-- Numero: integer (nullable = true)\n",
            " |-- Posicao: string (nullable = true)\n",
            " |-- Nome_FIFA: string (nullable = true)\n",
            " |-- Nascimento: string (nullable = true)\n",
            " |-- Nome Camiseta: string (nullable = true)\n",
            " |-- Time: string (nullable = true)\n",
            " |-- Altura: integer (nullable = true)\n",
            " |-- Peso: integer (nullable = true)\n",
            " |-- Ano_Nascimento: integer (nullable = true)\n",
            "\n"
          ]
        }
      ]
    },
    {
      "cell_type": "code",
      "source": [
        "# Vamos salvar os dados com a coluna corrigida\n",
        "dados = dados.withColumn('Ano_Nascimento', col('Ano_Nascimento').cast(IntegerType()))\n",
        "dados.printSchema()"
      ],
      "metadata": {
        "colab": {
          "base_uri": "https://localhost:8080/"
        },
        "id": "RJ9Teof5FoGU",
        "outputId": "d2cb2500-8995-4e25-f699-cfa8a5b7cc5a"
      },
      "execution_count": 20,
      "outputs": [
        {
          "output_type": "stream",
          "name": "stdout",
          "text": [
            "root\n",
            " |-- Selecao: string (nullable = true)\n",
            " |-- Numero: integer (nullable = true)\n",
            " |-- Posicao: string (nullable = true)\n",
            " |-- Nome_FIFA: string (nullable = true)\n",
            " |-- Nascimento: string (nullable = true)\n",
            " |-- Nome Camiseta: string (nullable = true)\n",
            " |-- Time: string (nullable = true)\n",
            " |-- Altura: integer (nullable = true)\n",
            " |-- Peso: integer (nullable = true)\n",
            " |-- Ano_Nascimento: integer (nullable = true)\n",
            "\n"
          ]
        }
      ]
    },
    {
      "cell_type": "code",
      "source": [
        "# Corrigindo a data que está em string para data\n",
        "\n",
        "## Vamos fazer uma função \"cortar\" do dia\n",
        "dia = udf(lambda data: data.split('.')[0])\n",
        "\n",
        "dados.withColumn('Dia', dia(dados.Nascimento)).show(5)"
      ],
      "metadata": {
        "colab": {
          "base_uri": "https://localhost:8080/"
        },
        "id": "4F3nE4wCQ_uB",
        "outputId": "d7b0bc56-6794-4a8f-dfcf-cbc3cec2e2df"
      },
      "execution_count": 21,
      "outputs": [
        {
          "output_type": "stream",
          "name": "stdout",
          "text": [
            "+---------+------+-------+------------------+----------+-------------+--------------------+------+----+--------------+---+\n",
            "|  Selecao|Numero|Posicao|         Nome_FIFA|Nascimento|Nome Camiseta|                Time|Altura|Peso|Ano_Nascimento|Dia|\n",
            "+---------+------+-------+------------------+----------+-------------+--------------------+------+----+--------------+---+\n",
            "|Argentina|     3|     DF|TAGLIAFICO Nicolas|31.08.1992|   TAGLIAFICO|      AFC Ajax (NED)|   169|  65|          1992| 31|\n",
            "|Argentina|    22|     MF|    PAVON Cristian|21.01.1996|        PAVÓN|CA Boca Juniors (...|   169|  65|          1996| 21|\n",
            "|Argentina|    15|     MF|    LANZINI Manuel|15.02.1993|      LANZINI|West Ham United F...|   167|  66|          1993| 15|\n",
            "|Argentina|    18|     DF|    SALVIO Eduardo|13.07.1990|       SALVIO|    SL Benfica (POR)|   167|  69|          1990| 13|\n",
            "|Argentina|    10|     FW|      MESSI Lionel|24.06.1987|        MESSI|  FC Barcelona (ESP)|   170|  72|          1987| 24|\n",
            "+---------+------+-------+------------------+----------+-------------+--------------------+------+----+--------------+---+\n",
            "only showing top 5 rows\n",
            "\n"
          ]
        }
      ]
    },
    {
      "cell_type": "code",
      "source": [
        "# Vamos salvar no data frame\n",
        "dados = dados.withColumn('Dia', dia(dados.Nascimento))\n",
        "dados.show(5)"
      ],
      "metadata": {
        "colab": {
          "base_uri": "https://localhost:8080/"
        },
        "id": "mdM9yJkpUVky",
        "outputId": "437b1897-11c6-4839-e1fa-336bed280edc"
      },
      "execution_count": 22,
      "outputs": [
        {
          "output_type": "stream",
          "name": "stdout",
          "text": [
            "+---------+------+-------+------------------+----------+-------------+--------------------+------+----+--------------+---+\n",
            "|  Selecao|Numero|Posicao|         Nome_FIFA|Nascimento|Nome Camiseta|                Time|Altura|Peso|Ano_Nascimento|Dia|\n",
            "+---------+------+-------+------------------+----------+-------------+--------------------+------+----+--------------+---+\n",
            "|Argentina|     3|     DF|TAGLIAFICO Nicolas|31.08.1992|   TAGLIAFICO|      AFC Ajax (NED)|   169|  65|          1992| 31|\n",
            "|Argentina|    22|     MF|    PAVON Cristian|21.01.1996|        PAVÓN|CA Boca Juniors (...|   169|  65|          1996| 21|\n",
            "|Argentina|    15|     MF|    LANZINI Manuel|15.02.1993|      LANZINI|West Ham United F...|   167|  66|          1993| 15|\n",
            "|Argentina|    18|     DF|    SALVIO Eduardo|13.07.1990|       SALVIO|    SL Benfica (POR)|   167|  69|          1990| 13|\n",
            "|Argentina|    10|     FW|      MESSI Lionel|24.06.1987|        MESSI|  FC Barcelona (ESP)|   170|  72|          1987| 24|\n",
            "+---------+------+-------+------------------+----------+-------------+--------------------+------+----+--------------+---+\n",
            "only showing top 5 rows\n",
            "\n"
          ]
        }
      ]
    },
    {
      "cell_type": "code",
      "source": [
        "# Vamos fazer uma função para cortar o mês\n",
        "mes = udf(lambda data: data.split('.')[1])\n",
        "dados = dados.withColumn('Mes', mes(dados.Nascimento))\n",
        "dados.show(5)"
      ],
      "metadata": {
        "colab": {
          "base_uri": "https://localhost:8080/"
        },
        "id": "HALtx8neUe26",
        "outputId": "3c958044-89a3-43b4-b8b4-6848f12afc5b"
      },
      "execution_count": 23,
      "outputs": [
        {
          "output_type": "stream",
          "name": "stdout",
          "text": [
            "+---------+------+-------+------------------+----------+-------------+--------------------+------+----+--------------+---+---+\n",
            "|  Selecao|Numero|Posicao|         Nome_FIFA|Nascimento|Nome Camiseta|                Time|Altura|Peso|Ano_Nascimento|Dia|Mes|\n",
            "+---------+------+-------+------------------+----------+-------------+--------------------+------+----+--------------+---+---+\n",
            "|Argentina|     3|     DF|TAGLIAFICO Nicolas|31.08.1992|   TAGLIAFICO|      AFC Ajax (NED)|   169|  65|          1992| 31| 08|\n",
            "|Argentina|    22|     MF|    PAVON Cristian|21.01.1996|        PAVÓN|CA Boca Juniors (...|   169|  65|          1996| 21| 01|\n",
            "|Argentina|    15|     MF|    LANZINI Manuel|15.02.1993|      LANZINI|West Ham United F...|   167|  66|          1993| 15| 02|\n",
            "|Argentina|    18|     DF|    SALVIO Eduardo|13.07.1990|       SALVIO|    SL Benfica (POR)|   167|  69|          1990| 13| 07|\n",
            "|Argentina|    10|     FW|      MESSI Lionel|24.06.1987|        MESSI|  FC Barcelona (ESP)|   170|  72|          1987| 24| 06|\n",
            "+---------+------+-------+------------------+----------+-------------+--------------------+------+----+--------------+---+---+\n",
            "only showing top 5 rows\n",
            "\n"
          ]
        }
      ]
    },
    {
      "cell_type": "code",
      "source": [
        "# Vamos criar a variável Data_Nascimento\n",
        "dados = dados.withColumn('Data_Nascimento', concat_ws('-', 'Ano_Nascimento', 'Mes', 'Dia'))\n",
        "dados.show(5)"
      ],
      "metadata": {
        "colab": {
          "base_uri": "https://localhost:8080/"
        },
        "id": "uOrjKkIGUy1n",
        "outputId": "e668f2d8-9ea1-4454-f726-14570b363230"
      },
      "execution_count": 24,
      "outputs": [
        {
          "output_type": "stream",
          "name": "stdout",
          "text": [
            "+---------+------+-------+------------------+----------+-------------+--------------------+------+----+--------------+---+---+---------------+\n",
            "|  Selecao|Numero|Posicao|         Nome_FIFA|Nascimento|Nome Camiseta|                Time|Altura|Peso|Ano_Nascimento|Dia|Mes|Data_Nascimento|\n",
            "+---------+------+-------+------------------+----------+-------------+--------------------+------+----+--------------+---+---+---------------+\n",
            "|Argentina|     3|     DF|TAGLIAFICO Nicolas|31.08.1992|   TAGLIAFICO|      AFC Ajax (NED)|   169|  65|          1992| 31| 08|     1992-08-31|\n",
            "|Argentina|    22|     MF|    PAVON Cristian|21.01.1996|        PAVÓN|CA Boca Juniors (...|   169|  65|          1996| 21| 01|     1996-01-21|\n",
            "|Argentina|    15|     MF|    LANZINI Manuel|15.02.1993|      LANZINI|West Ham United F...|   167|  66|          1993| 15| 02|     1993-02-15|\n",
            "|Argentina|    18|     DF|    SALVIO Eduardo|13.07.1990|       SALVIO|    SL Benfica (POR)|   167|  69|          1990| 13| 07|     1990-07-13|\n",
            "|Argentina|    10|     FW|      MESSI Lionel|24.06.1987|        MESSI|  FC Barcelona (ESP)|   170|  72|          1987| 24| 06|     1987-06-24|\n",
            "+---------+------+-------+------------------+----------+-------------+--------------------+------+----+--------------+---+---+---------------+\n",
            "only showing top 5 rows\n",
            "\n"
          ]
        }
      ]
    },
    {
      "cell_type": "code",
      "source": [
        "# Vamos transormar a coluna Data_Nascimento em tipo data\n",
        "dados.withColumn('Data_Nascimento', to_date(dados.Data_Nascimento, 'yyyy-MM-dd')).printSchema()\n",
        "\n",
        "# Salvando os dados\n",
        "dados = dados.withColumn('Data_Nascimento', to_date(dados.Data_Nascimento, 'yyyy-MM-dd'))"
      ],
      "metadata": {
        "colab": {
          "base_uri": "https://localhost:8080/"
        },
        "id": "gBrkG6eEVvz0",
        "outputId": "04cea593-a8d8-48de-c31e-cbb97bf7ce84"
      },
      "execution_count": 25,
      "outputs": [
        {
          "output_type": "stream",
          "name": "stdout",
          "text": [
            "root\n",
            " |-- Selecao: string (nullable = true)\n",
            " |-- Numero: integer (nullable = true)\n",
            " |-- Posicao: string (nullable = true)\n",
            " |-- Nome_FIFA: string (nullable = true)\n",
            " |-- Nascimento: string (nullable = true)\n",
            " |-- Nome Camiseta: string (nullable = true)\n",
            " |-- Time: string (nullable = true)\n",
            " |-- Altura: integer (nullable = true)\n",
            " |-- Peso: integer (nullable = true)\n",
            " |-- Ano_Nascimento: integer (nullable = true)\n",
            " |-- Dia: string (nullable = true)\n",
            " |-- Mes: string (nullable = true)\n",
            " |-- Data_Nascimento: date (nullable = true)\n",
            "\n"
          ]
        }
      ]
    },
    {
      "cell_type": "code",
      "source": [
        "# Vamos calcular a idade dos jogadores\n",
        "dados.withColumn('Idade', (year(current_date()) - dados.Ano_Nascimento)).show(5)"
      ],
      "metadata": {
        "colab": {
          "base_uri": "https://localhost:8080/"
        },
        "id": "Zft161NYWNXr",
        "outputId": "0606fa13-0ea1-44c5-9ebc-117853fa46d8"
      },
      "execution_count": 26,
      "outputs": [
        {
          "output_type": "stream",
          "name": "stdout",
          "text": [
            "+---------+------+-------+------------------+----------+-------------+--------------------+------+----+--------------+---+---+---------------+-----+\n",
            "|  Selecao|Numero|Posicao|         Nome_FIFA|Nascimento|Nome Camiseta|                Time|Altura|Peso|Ano_Nascimento|Dia|Mes|Data_Nascimento|Idade|\n",
            "+---------+------+-------+------------------+----------+-------------+--------------------+------+----+--------------+---+---+---------------+-----+\n",
            "|Argentina|     3|     DF|TAGLIAFICO Nicolas|31.08.1992|   TAGLIAFICO|      AFC Ajax (NED)|   169|  65|          1992| 31| 08|     1992-08-31|   32|\n",
            "|Argentina|    22|     MF|    PAVON Cristian|21.01.1996|        PAVÓN|CA Boca Juniors (...|   169|  65|          1996| 21| 01|     1996-01-21|   28|\n",
            "|Argentina|    15|     MF|    LANZINI Manuel|15.02.1993|      LANZINI|West Ham United F...|   167|  66|          1993| 15| 02|     1993-02-15|   31|\n",
            "|Argentina|    18|     DF|    SALVIO Eduardo|13.07.1990|       SALVIO|    SL Benfica (POR)|   167|  69|          1990| 13| 07|     1990-07-13|   34|\n",
            "|Argentina|    10|     FW|      MESSI Lionel|24.06.1987|        MESSI|  FC Barcelona (ESP)|   170|  72|          1987| 24| 06|     1987-06-24|   37|\n",
            "+---------+------+-------+------------------+----------+-------------+--------------------+------+----+--------------+---+---+---------------+-----+\n",
            "only showing top 5 rows\n",
            "\n"
          ]
        }
      ]
    },
    {
      "cell_type": "code",
      "source": [
        "# Vamos salvar as idades\n",
        "dados = dados.withColumn('Idade', (year(current_date()) - dados.Ano_Nascimento))\n",
        "dados.show(5)"
      ],
      "metadata": {
        "colab": {
          "base_uri": "https://localhost:8080/"
        },
        "id": "M7dF7cJsXquM",
        "outputId": "99b478ce-07cb-4216-d4fd-acbc19c0381d"
      },
      "execution_count": 27,
      "outputs": [
        {
          "output_type": "stream",
          "name": "stdout",
          "text": [
            "+---------+------+-------+------------------+----------+-------------+--------------------+------+----+--------------+---+---+---------------+-----+\n",
            "|  Selecao|Numero|Posicao|         Nome_FIFA|Nascimento|Nome Camiseta|                Time|Altura|Peso|Ano_Nascimento|Dia|Mes|Data_Nascimento|Idade|\n",
            "+---------+------+-------+------------------+----------+-------------+--------------------+------+----+--------------+---+---+---------------+-----+\n",
            "|Argentina|     3|     DF|TAGLIAFICO Nicolas|31.08.1992|   TAGLIAFICO|      AFC Ajax (NED)|   169|  65|          1992| 31| 08|     1992-08-31|   32|\n",
            "|Argentina|    22|     MF|    PAVON Cristian|21.01.1996|        PAVÓN|CA Boca Juniors (...|   169|  65|          1996| 21| 01|     1996-01-21|   28|\n",
            "|Argentina|    15|     MF|    LANZINI Manuel|15.02.1993|      LANZINI|West Ham United F...|   167|  66|          1993| 15| 02|     1993-02-15|   31|\n",
            "|Argentina|    18|     DF|    SALVIO Eduardo|13.07.1990|       SALVIO|    SL Benfica (POR)|   167|  69|          1990| 13| 07|     1990-07-13|   34|\n",
            "|Argentina|    10|     FW|      MESSI Lionel|24.06.1987|        MESSI|  FC Barcelona (ESP)|   170|  72|          1987| 24| 06|     1987-06-24|   37|\n",
            "+---------+------+-------+------------------+----------+-------------+--------------------+------+----+--------------+---+---+---------------+-----+\n",
            "only showing top 5 rows\n",
            "\n"
          ]
        }
      ]
    },
    {
      "cell_type": "code",
      "source": [
        "# Vamos apagar a coluna nascimento\n",
        "\n",
        "dados = dados.drop('Nascimento')\n",
        "dados.show(5)"
      ],
      "metadata": {
        "id": "XJ0I5VFEXvrs",
        "colab": {
          "base_uri": "https://localhost:8080/"
        },
        "outputId": "4a4aaafd-e8d7-42f9-a87e-15971447669a"
      },
      "execution_count": 28,
      "outputs": [
        {
          "output_type": "stream",
          "name": "stdout",
          "text": [
            "+---------+------+-------+------------------+-------------+--------------------+------+----+--------------+---+---+---------------+-----+\n",
            "|  Selecao|Numero|Posicao|         Nome_FIFA|Nome Camiseta|                Time|Altura|Peso|Ano_Nascimento|Dia|Mes|Data_Nascimento|Idade|\n",
            "+---------+------+-------+------------------+-------------+--------------------+------+----+--------------+---+---+---------------+-----+\n",
            "|Argentina|     3|     DF|TAGLIAFICO Nicolas|   TAGLIAFICO|      AFC Ajax (NED)|   169|  65|          1992| 31| 08|     1992-08-31|   32|\n",
            "|Argentina|    22|     MF|    PAVON Cristian|        PAVÓN|CA Boca Juniors (...|   169|  65|          1996| 21| 01|     1996-01-21|   28|\n",
            "|Argentina|    15|     MF|    LANZINI Manuel|      LANZINI|West Ham United F...|   167|  66|          1993| 15| 02|     1993-02-15|   31|\n",
            "|Argentina|    18|     DF|    SALVIO Eduardo|       SALVIO|    SL Benfica (POR)|   167|  69|          1990| 13| 07|     1990-07-13|   34|\n",
            "|Argentina|    10|     FW|      MESSI Lionel|        MESSI|  FC Barcelona (ESP)|   170|  72|          1987| 24| 06|     1987-06-24|   37|\n",
            "+---------+------+-------+------------------+-------------+--------------------+------+----+--------------+---+---+---------------+-----+\n",
            "only showing top 5 rows\n",
            "\n"
          ]
        }
      ]
    },
    {
      "cell_type": "code",
      "source": [
        "# Vamos criar um data frame reserva\n",
        "dados2 = dados"
      ],
      "metadata": {
        "id": "aQYy0d445pW5"
      },
      "execution_count": 29,
      "outputs": []
    },
    {
      "cell_type": "code",
      "source": [
        "# Vamos fazer um agrupamento por seleção do maior para o menor\n",
        "num_linha = Window.partitionBy('Selecao').orderBy(col('Altura').desc())\n",
        "\n",
        "dados.withColumn('Row_Number', row_number().over(num_linha)).show(20)"
      ],
      "metadata": {
        "colab": {
          "base_uri": "https://localhost:8080/"
        },
        "id": "Vsu9w6-Q54bg",
        "outputId": "ffc6c9e7-2246-42f0-b121-f75387d3a81c"
      },
      "execution_count": 30,
      "outputs": [
        {
          "output_type": "stream",
          "name": "stdout",
          "text": [
            "+---------+------+-------+------------------+-------------+--------------------+------+----+--------------+---+---+---------------+-----+----------+\n",
            "|  Selecao|Numero|Posicao|         Nome_FIFA|Nome Camiseta|                Time|Altura|Peso|Ano_Nascimento|Dia|Mes|Data_Nascimento|Idade|Row_Number|\n",
            "+---------+------+-------+------------------+-------------+--------------------+------+----+--------------+---+---+---------------+-----+----------+\n",
            "|Argentina|     6|     DF|    FAZIO Federico|        FAZIO|       AS Roma (ITA)|   199|  85|          1987| 17| 03|     1987-03-17|   37|         1|\n",
            "|Argentina|     1|     GK|     GUZMAN Nahuel|       GUZMÁN|   Tigres UANL (MEX)|   192|  90|          1986| 10| 02|     1986-02-10|   38|         2|\n",
            "|Argentina|    16|     DF|       ROJO Marcos|         ROJO|Manchester United...|   189|  82|          1990| 20| 03|     1990-03-20|   34|         3|\n",
            "|Argentina|    12|     GK|     ARMANI Franco|       ARMANI|CA River Plate (ARG)|   189|  85|          1986| 16| 10|     1986-10-16|   38|         4|\n",
            "|Argentina|    23|     GK|CABALLERO Wilfredo|    CABALLERO|    Chelsea FC (ENG)|   186|  80|          1981| 28| 09|     1981-09-28|   43|         5|\n",
            "|Argentina|     9|     FW|   HIGUAIN Gonzalo|      HIGUAÍN|   Juventus FC (ITA)|   184|  75|          1987| 10| 12|     1987-12-10|   37|         6|\n",
            "|Argentina|     4|     DF|  ANSALDI Cristian|      ANSALDI|     Torino FC (ITA)|   181|  73|          1986| 20| 09|     1986-09-20|   38|         7|\n",
            "|Argentina|     2|     DF|   MERCADO Gabriel|      MERCADO|    Sevilla FC (ESP)|   181|  81|          1987| 18| 03|     1987-03-18|   37|         8|\n",
            "|Argentina|    17|     DF|  OTAMENDI Nicolas|     OTAMENDI|Manchester City F...|   181|  81|          1988| 12| 02|     1988-02-12|   36|         9|\n",
            "|Argentina|    13|     MF|  MEZA Maximiliano|         MEZA|CA Independiente ...|   180|  76|          1992| 15| 12|     1992-12-15|   32|        10|\n",
            "|Argentina|    11|     MF|    DI MARIA Angel|     DI MARÍA|Paris Saint-Germa...|   178|  75|          1988| 14| 02|     1988-02-14|   36|        11|\n",
            "|Argentina|    21|     FW|      DYBALA Paulo|       DYBALA|   Juventus FC (ITA)|   177|  73|          1993| 15| 11|     1993-11-15|   31|        12|\n",
            "|Argentina|    20|     MF|  LO CELSO Giovani|     LO CELSO|Paris Saint-Germa...|   177|  75|          1996| 09| 04|     1996-04-09|   28|        13|\n",
            "|Argentina|     5|     MF|      BIGLIA Lucas|       BIGLIA|      AC Milan (ITA)|   175|  73|          1986| 30| 01|     1986-01-30|   38|        14|\n",
            "|Argentina|     7|     MF|       BANEGA Ever|       BANEGA|    Sevilla FC (ESP)|   175|  73|          1988| 29| 06|     1988-06-29|   36|        15|\n",
            "|Argentina|    14|     DF| MASCHERANO Javier|   MASCHERANO|Hebei China Fortu...|   174|  73|          1984| 08| 06|     1984-06-08|   40|        16|\n",
            "|Argentina|    19|     FW|     AGUERO Sergio|       AGÜERO|Manchester City F...|   172|  74|          1988| 02| 06|     1988-06-02|   36|        17|\n",
            "|Argentina|     8|     DF|      ACUNA Marcos|        ACUÑA|   Sporting CP (POR)|   172|  77|          1991| 28| 10|     1991-10-28|   33|        18|\n",
            "|Argentina|    10|     FW|      MESSI Lionel|        MESSI|  FC Barcelona (ESP)|   170|  72|          1987| 24| 06|     1987-06-24|   37|        19|\n",
            "|Argentina|     3|     DF|TAGLIAFICO Nicolas|   TAGLIAFICO|      AFC Ajax (NED)|   169|  65|          1992| 31| 08|     1992-08-31|   32|        20|\n",
            "+---------+------+-------+------------------+-------------+--------------------+------+----+--------------+---+---+---------------+-----+----------+\n",
            "only showing top 20 rows\n",
            "\n"
          ]
        }
      ]
    },
    {
      "cell_type": "code",
      "source": [
        "# Vamos fazer os rankings de altura dos jogadores por seleção\n",
        "\n",
        "rank1 = Window.partitionBy('Selecao').orderBy(col('Altura').desc())\n",
        "\n",
        "dados.withColumn('Rank', rank().over(rank1)).show(20)"
      ],
      "metadata": {
        "colab": {
          "base_uri": "https://localhost:8080/"
        },
        "id": "n8_JRFtO7ojp",
        "outputId": "04e5cda3-00e5-4e26-d6b8-c34c2cb41162"
      },
      "execution_count": 31,
      "outputs": [
        {
          "output_type": "stream",
          "name": "stdout",
          "text": [
            "+---------+------+-------+------------------+-------------+--------------------+------+----+--------------+---+---+---------------+-----+----+\n",
            "|  Selecao|Numero|Posicao|         Nome_FIFA|Nome Camiseta|                Time|Altura|Peso|Ano_Nascimento|Dia|Mes|Data_Nascimento|Idade|Rank|\n",
            "+---------+------+-------+------------------+-------------+--------------------+------+----+--------------+---+---+---------------+-----+----+\n",
            "|Argentina|     6|     DF|    FAZIO Federico|        FAZIO|       AS Roma (ITA)|   199|  85|          1987| 17| 03|     1987-03-17|   37|   1|\n",
            "|Argentina|     1|     GK|     GUZMAN Nahuel|       GUZMÁN|   Tigres UANL (MEX)|   192|  90|          1986| 10| 02|     1986-02-10|   38|   2|\n",
            "|Argentina|    16|     DF|       ROJO Marcos|         ROJO|Manchester United...|   189|  82|          1990| 20| 03|     1990-03-20|   34|   3|\n",
            "|Argentina|    12|     GK|     ARMANI Franco|       ARMANI|CA River Plate (ARG)|   189|  85|          1986| 16| 10|     1986-10-16|   38|   3|\n",
            "|Argentina|    23|     GK|CABALLERO Wilfredo|    CABALLERO|    Chelsea FC (ENG)|   186|  80|          1981| 28| 09|     1981-09-28|   43|   5|\n",
            "|Argentina|     9|     FW|   HIGUAIN Gonzalo|      HIGUAÍN|   Juventus FC (ITA)|   184|  75|          1987| 10| 12|     1987-12-10|   37|   6|\n",
            "|Argentina|     4|     DF|  ANSALDI Cristian|      ANSALDI|     Torino FC (ITA)|   181|  73|          1986| 20| 09|     1986-09-20|   38|   7|\n",
            "|Argentina|     2|     DF|   MERCADO Gabriel|      MERCADO|    Sevilla FC (ESP)|   181|  81|          1987| 18| 03|     1987-03-18|   37|   7|\n",
            "|Argentina|    17|     DF|  OTAMENDI Nicolas|     OTAMENDI|Manchester City F...|   181|  81|          1988| 12| 02|     1988-02-12|   36|   7|\n",
            "|Argentina|    13|     MF|  MEZA Maximiliano|         MEZA|CA Independiente ...|   180|  76|          1992| 15| 12|     1992-12-15|   32|  10|\n",
            "|Argentina|    11|     MF|    DI MARIA Angel|     DI MARÍA|Paris Saint-Germa...|   178|  75|          1988| 14| 02|     1988-02-14|   36|  11|\n",
            "|Argentina|    21|     FW|      DYBALA Paulo|       DYBALA|   Juventus FC (ITA)|   177|  73|          1993| 15| 11|     1993-11-15|   31|  12|\n",
            "|Argentina|    20|     MF|  LO CELSO Giovani|     LO CELSO|Paris Saint-Germa...|   177|  75|          1996| 09| 04|     1996-04-09|   28|  12|\n",
            "|Argentina|     5|     MF|      BIGLIA Lucas|       BIGLIA|      AC Milan (ITA)|   175|  73|          1986| 30| 01|     1986-01-30|   38|  14|\n",
            "|Argentina|     7|     MF|       BANEGA Ever|       BANEGA|    Sevilla FC (ESP)|   175|  73|          1988| 29| 06|     1988-06-29|   36|  14|\n",
            "|Argentina|    14|     DF| MASCHERANO Javier|   MASCHERANO|Hebei China Fortu...|   174|  73|          1984| 08| 06|     1984-06-08|   40|  16|\n",
            "|Argentina|    19|     FW|     AGUERO Sergio|       AGÜERO|Manchester City F...|   172|  74|          1988| 02| 06|     1988-06-02|   36|  17|\n",
            "|Argentina|     8|     DF|      ACUNA Marcos|        ACUÑA|   Sporting CP (POR)|   172|  77|          1991| 28| 10|     1991-10-28|   33|  17|\n",
            "|Argentina|    10|     FW|      MESSI Lionel|        MESSI|  FC Barcelona (ESP)|   170|  72|          1987| 24| 06|     1987-06-24|   37|  19|\n",
            "|Argentina|     3|     DF|TAGLIAFICO Nicolas|   TAGLIAFICO|      AFC Ajax (NED)|   169|  65|          1992| 31| 08|     1992-08-31|   32|  20|\n",
            "+---------+------+-------+------------------+-------------+--------------------+------+----+--------------+---+---+---------------+-----+----+\n",
            "only showing top 20 rows\n",
            "\n"
          ]
        }
      ]
    },
    {
      "cell_type": "code",
      "source": [
        "# Vamos fazer um novo ranking. Agora a função não faz contagem de linha\n",
        "rank2 = Window.partitionBy('Selecao').orderBy(col('Altura').desc())\n",
        "\n",
        "dados.withColumn('Rank2', dense_rank().over(rank2)).show(20)"
      ],
      "metadata": {
        "colab": {
          "base_uri": "https://localhost:8080/"
        },
        "id": "fjgp4oOa7_DW",
        "outputId": "fdf64f11-2c77-4de3-c0ab-1f869b97029c"
      },
      "execution_count": 32,
      "outputs": [
        {
          "output_type": "stream",
          "name": "stdout",
          "text": [
            "+---------+------+-------+------------------+-------------+--------------------+------+----+--------------+---+---+---------------+-----+-----+\n",
            "|  Selecao|Numero|Posicao|         Nome_FIFA|Nome Camiseta|                Time|Altura|Peso|Ano_Nascimento|Dia|Mes|Data_Nascimento|Idade|Rank2|\n",
            "+---------+------+-------+------------------+-------------+--------------------+------+----+--------------+---+---+---------------+-----+-----+\n",
            "|Argentina|     6|     DF|    FAZIO Federico|        FAZIO|       AS Roma (ITA)|   199|  85|          1987| 17| 03|     1987-03-17|   37|    1|\n",
            "|Argentina|     1|     GK|     GUZMAN Nahuel|       GUZMÁN|   Tigres UANL (MEX)|   192|  90|          1986| 10| 02|     1986-02-10|   38|    2|\n",
            "|Argentina|    16|     DF|       ROJO Marcos|         ROJO|Manchester United...|   189|  82|          1990| 20| 03|     1990-03-20|   34|    3|\n",
            "|Argentina|    12|     GK|     ARMANI Franco|       ARMANI|CA River Plate (ARG)|   189|  85|          1986| 16| 10|     1986-10-16|   38|    3|\n",
            "|Argentina|    23|     GK|CABALLERO Wilfredo|    CABALLERO|    Chelsea FC (ENG)|   186|  80|          1981| 28| 09|     1981-09-28|   43|    4|\n",
            "|Argentina|     9|     FW|   HIGUAIN Gonzalo|      HIGUAÍN|   Juventus FC (ITA)|   184|  75|          1987| 10| 12|     1987-12-10|   37|    5|\n",
            "|Argentina|     4|     DF|  ANSALDI Cristian|      ANSALDI|     Torino FC (ITA)|   181|  73|          1986| 20| 09|     1986-09-20|   38|    6|\n",
            "|Argentina|     2|     DF|   MERCADO Gabriel|      MERCADO|    Sevilla FC (ESP)|   181|  81|          1987| 18| 03|     1987-03-18|   37|    6|\n",
            "|Argentina|    17|     DF|  OTAMENDI Nicolas|     OTAMENDI|Manchester City F...|   181|  81|          1988| 12| 02|     1988-02-12|   36|    6|\n",
            "|Argentina|    13|     MF|  MEZA Maximiliano|         MEZA|CA Independiente ...|   180|  76|          1992| 15| 12|     1992-12-15|   32|    7|\n",
            "|Argentina|    11|     MF|    DI MARIA Angel|     DI MARÍA|Paris Saint-Germa...|   178|  75|          1988| 14| 02|     1988-02-14|   36|    8|\n",
            "|Argentina|    21|     FW|      DYBALA Paulo|       DYBALA|   Juventus FC (ITA)|   177|  73|          1993| 15| 11|     1993-11-15|   31|    9|\n",
            "|Argentina|    20|     MF|  LO CELSO Giovani|     LO CELSO|Paris Saint-Germa...|   177|  75|          1996| 09| 04|     1996-04-09|   28|    9|\n",
            "|Argentina|     5|     MF|      BIGLIA Lucas|       BIGLIA|      AC Milan (ITA)|   175|  73|          1986| 30| 01|     1986-01-30|   38|   10|\n",
            "|Argentina|     7|     MF|       BANEGA Ever|       BANEGA|    Sevilla FC (ESP)|   175|  73|          1988| 29| 06|     1988-06-29|   36|   10|\n",
            "|Argentina|    14|     DF| MASCHERANO Javier|   MASCHERANO|Hebei China Fortu...|   174|  73|          1984| 08| 06|     1984-06-08|   40|   11|\n",
            "|Argentina|    19|     FW|     AGUERO Sergio|       AGÜERO|Manchester City F...|   172|  74|          1988| 02| 06|     1988-06-02|   36|   12|\n",
            "|Argentina|     8|     DF|      ACUNA Marcos|        ACUÑA|   Sporting CP (POR)|   172|  77|          1991| 28| 10|     1991-10-28|   33|   12|\n",
            "|Argentina|    10|     FW|      MESSI Lionel|        MESSI|  FC Barcelona (ESP)|   170|  72|          1987| 24| 06|     1987-06-24|   37|   13|\n",
            "|Argentina|     3|     DF|TAGLIAFICO Nicolas|   TAGLIAFICO|      AFC Ajax (NED)|   169|  65|          1992| 31| 08|     1992-08-31|   32|   14|\n",
            "+---------+------+-------+------------------+-------------+--------------------+------+----+--------------+---+---+---------------+-----+-----+\n",
            "only showing top 20 rows\n",
            "\n"
          ]
        }
      ]
    },
    {
      "cell_type": "code",
      "source": [
        "# Vamos realizar o ranking por porcentagem\n",
        "porcentagem = Window.partitionBy('Selecao').orderBy(col('Altura').desc())\n",
        "\n",
        "dados.withColumn('Porcentagem', percent_rank().over(porcentagem)).show(20)"
      ],
      "metadata": {
        "colab": {
          "base_uri": "https://localhost:8080/"
        },
        "id": "ELqSIaHw86Bq",
        "outputId": "6539c7d4-3455-4287-99e7-e2c889dae23d"
      },
      "execution_count": 33,
      "outputs": [
        {
          "output_type": "stream",
          "name": "stdout",
          "text": [
            "+---------+------+-------+------------------+-------------+--------------------+------+----+--------------+---+---+---------------+-----+--------------------+\n",
            "|  Selecao|Numero|Posicao|         Nome_FIFA|Nome Camiseta|                Time|Altura|Peso|Ano_Nascimento|Dia|Mes|Data_Nascimento|Idade|         Porcentagem|\n",
            "+---------+------+-------+------------------+-------------+--------------------+------+----+--------------+---+---+---------------+-----+--------------------+\n",
            "|Argentina|     6|     DF|    FAZIO Federico|        FAZIO|       AS Roma (ITA)|   199|  85|          1987| 17| 03|     1987-03-17|   37|                 0.0|\n",
            "|Argentina|     1|     GK|     GUZMAN Nahuel|       GUZMÁN|   Tigres UANL (MEX)|   192|  90|          1986| 10| 02|     1986-02-10|   38|0.045454545454545456|\n",
            "|Argentina|    16|     DF|       ROJO Marcos|         ROJO|Manchester United...|   189|  82|          1990| 20| 03|     1990-03-20|   34| 0.09090909090909091|\n",
            "|Argentina|    12|     GK|     ARMANI Franco|       ARMANI|CA River Plate (ARG)|   189|  85|          1986| 16| 10|     1986-10-16|   38| 0.09090909090909091|\n",
            "|Argentina|    23|     GK|CABALLERO Wilfredo|    CABALLERO|    Chelsea FC (ENG)|   186|  80|          1981| 28| 09|     1981-09-28|   43| 0.18181818181818182|\n",
            "|Argentina|     9|     FW|   HIGUAIN Gonzalo|      HIGUAÍN|   Juventus FC (ITA)|   184|  75|          1987| 10| 12|     1987-12-10|   37| 0.22727272727272727|\n",
            "|Argentina|     4|     DF|  ANSALDI Cristian|      ANSALDI|     Torino FC (ITA)|   181|  73|          1986| 20| 09|     1986-09-20|   38|  0.2727272727272727|\n",
            "|Argentina|     2|     DF|   MERCADO Gabriel|      MERCADO|    Sevilla FC (ESP)|   181|  81|          1987| 18| 03|     1987-03-18|   37|  0.2727272727272727|\n",
            "|Argentina|    17|     DF|  OTAMENDI Nicolas|     OTAMENDI|Manchester City F...|   181|  81|          1988| 12| 02|     1988-02-12|   36|  0.2727272727272727|\n",
            "|Argentina|    13|     MF|  MEZA Maximiliano|         MEZA|CA Independiente ...|   180|  76|          1992| 15| 12|     1992-12-15|   32|  0.4090909090909091|\n",
            "|Argentina|    11|     MF|    DI MARIA Angel|     DI MARÍA|Paris Saint-Germa...|   178|  75|          1988| 14| 02|     1988-02-14|   36| 0.45454545454545453|\n",
            "|Argentina|    21|     FW|      DYBALA Paulo|       DYBALA|   Juventus FC (ITA)|   177|  73|          1993| 15| 11|     1993-11-15|   31|                 0.5|\n",
            "|Argentina|    20|     MF|  LO CELSO Giovani|     LO CELSO|Paris Saint-Germa...|   177|  75|          1996| 09| 04|     1996-04-09|   28|                 0.5|\n",
            "|Argentina|     5|     MF|      BIGLIA Lucas|       BIGLIA|      AC Milan (ITA)|   175|  73|          1986| 30| 01|     1986-01-30|   38|  0.5909090909090909|\n",
            "|Argentina|     7|     MF|       BANEGA Ever|       BANEGA|    Sevilla FC (ESP)|   175|  73|          1988| 29| 06|     1988-06-29|   36|  0.5909090909090909|\n",
            "|Argentina|    14|     DF| MASCHERANO Javier|   MASCHERANO|Hebei China Fortu...|   174|  73|          1984| 08| 06|     1984-06-08|   40|  0.6818181818181818|\n",
            "|Argentina|    19|     FW|     AGUERO Sergio|       AGÜERO|Manchester City F...|   172|  74|          1988| 02| 06|     1988-06-02|   36|  0.7272727272727273|\n",
            "|Argentina|     8|     DF|      ACUNA Marcos|        ACUÑA|   Sporting CP (POR)|   172|  77|          1991| 28| 10|     1991-10-28|   33|  0.7272727272727273|\n",
            "|Argentina|    10|     FW|      MESSI Lionel|        MESSI|  FC Barcelona (ESP)|   170|  72|          1987| 24| 06|     1987-06-24|   37|  0.8181818181818182|\n",
            "|Argentina|     3|     DF|TAGLIAFICO Nicolas|   TAGLIAFICO|      AFC Ajax (NED)|   169|  65|          1992| 31| 08|     1992-08-31|   32|  0.8636363636363636|\n",
            "+---------+------+-------+------------------+-------------+--------------------+------+----+--------------+---+---+---------------+-----+--------------------+\n",
            "only showing top 20 rows\n",
            "\n"
          ]
        }
      ]
    },
    {
      "cell_type": "code",
      "source": [
        "# Vamos criar uma coluna que divide os jogadores em grupos pela altura\n",
        "# Vamos dividir em 5 grupos\n",
        "\n",
        "parte = Window.partitionBy('Selecao').orderBy(col('Altura').desc())\n",
        "\n",
        "dados.withColumn('Grupo', ntile(5).over(parte)).show(20)"
      ],
      "metadata": {
        "colab": {
          "base_uri": "https://localhost:8080/"
        },
        "id": "awGJeSOA9uag",
        "outputId": "1bc28986-675b-4dc3-c970-8e409a1eae7d"
      },
      "execution_count": 34,
      "outputs": [
        {
          "output_type": "stream",
          "name": "stdout",
          "text": [
            "+---------+------+-------+------------------+-------------+--------------------+------+----+--------------+---+---+---------------+-----+-----+\n",
            "|  Selecao|Numero|Posicao|         Nome_FIFA|Nome Camiseta|                Time|Altura|Peso|Ano_Nascimento|Dia|Mes|Data_Nascimento|Idade|Grupo|\n",
            "+---------+------+-------+------------------+-------------+--------------------+------+----+--------------+---+---+---------------+-----+-----+\n",
            "|Argentina|     6|     DF|    FAZIO Federico|        FAZIO|       AS Roma (ITA)|   199|  85|          1987| 17| 03|     1987-03-17|   37|    1|\n",
            "|Argentina|     1|     GK|     GUZMAN Nahuel|       GUZMÁN|   Tigres UANL (MEX)|   192|  90|          1986| 10| 02|     1986-02-10|   38|    1|\n",
            "|Argentina|    16|     DF|       ROJO Marcos|         ROJO|Manchester United...|   189|  82|          1990| 20| 03|     1990-03-20|   34|    1|\n",
            "|Argentina|    12|     GK|     ARMANI Franco|       ARMANI|CA River Plate (ARG)|   189|  85|          1986| 16| 10|     1986-10-16|   38|    1|\n",
            "|Argentina|    23|     GK|CABALLERO Wilfredo|    CABALLERO|    Chelsea FC (ENG)|   186|  80|          1981| 28| 09|     1981-09-28|   43|    1|\n",
            "|Argentina|     9|     FW|   HIGUAIN Gonzalo|      HIGUAÍN|   Juventus FC (ITA)|   184|  75|          1987| 10| 12|     1987-12-10|   37|    2|\n",
            "|Argentina|     4|     DF|  ANSALDI Cristian|      ANSALDI|     Torino FC (ITA)|   181|  73|          1986| 20| 09|     1986-09-20|   38|    2|\n",
            "|Argentina|     2|     DF|   MERCADO Gabriel|      MERCADO|    Sevilla FC (ESP)|   181|  81|          1987| 18| 03|     1987-03-18|   37|    2|\n",
            "|Argentina|    17|     DF|  OTAMENDI Nicolas|     OTAMENDI|Manchester City F...|   181|  81|          1988| 12| 02|     1988-02-12|   36|    2|\n",
            "|Argentina|    13|     MF|  MEZA Maximiliano|         MEZA|CA Independiente ...|   180|  76|          1992| 15| 12|     1992-12-15|   32|    2|\n",
            "|Argentina|    11|     MF|    DI MARIA Angel|     DI MARÍA|Paris Saint-Germa...|   178|  75|          1988| 14| 02|     1988-02-14|   36|    3|\n",
            "|Argentina|    21|     FW|      DYBALA Paulo|       DYBALA|   Juventus FC (ITA)|   177|  73|          1993| 15| 11|     1993-11-15|   31|    3|\n",
            "|Argentina|    20|     MF|  LO CELSO Giovani|     LO CELSO|Paris Saint-Germa...|   177|  75|          1996| 09| 04|     1996-04-09|   28|    3|\n",
            "|Argentina|     5|     MF|      BIGLIA Lucas|       BIGLIA|      AC Milan (ITA)|   175|  73|          1986| 30| 01|     1986-01-30|   38|    3|\n",
            "|Argentina|     7|     MF|       BANEGA Ever|       BANEGA|    Sevilla FC (ESP)|   175|  73|          1988| 29| 06|     1988-06-29|   36|    3|\n",
            "|Argentina|    14|     DF| MASCHERANO Javier|   MASCHERANO|Hebei China Fortu...|   174|  73|          1984| 08| 06|     1984-06-08|   40|    4|\n",
            "|Argentina|    19|     FW|     AGUERO Sergio|       AGÜERO|Manchester City F...|   172|  74|          1988| 02| 06|     1988-06-02|   36|    4|\n",
            "|Argentina|     8|     DF|      ACUNA Marcos|        ACUÑA|   Sporting CP (POR)|   172|  77|          1991| 28| 10|     1991-10-28|   33|    4|\n",
            "|Argentina|    10|     FW|      MESSI Lionel|        MESSI|  FC Barcelona (ESP)|   170|  72|          1987| 24| 06|     1987-06-24|   37|    4|\n",
            "|Argentina|     3|     DF|TAGLIAFICO Nicolas|   TAGLIAFICO|      AFC Ajax (NED)|   169|  65|          1992| 31| 08|     1992-08-31|   32|    5|\n",
            "+---------+------+-------+------------------+-------------+--------------------+------+----+--------------+---+---+---------------+-----+-----+\n",
            "only showing top 20 rows\n",
            "\n"
          ]
        }
      ]
    },
    {
      "cell_type": "code",
      "source": [
        "# Função lag()\n",
        "\n",
        "degrau = Window.partitionBy('Selecao').orderBy(col('Altura').desc())\n",
        "\n",
        "dados.withColumn('degrau', lag('Altura', 1).over(degrau)).show(20)"
      ],
      "metadata": {
        "id": "fTym62UG_ojd",
        "colab": {
          "base_uri": "https://localhost:8080/"
        },
        "outputId": "db839295-d99e-4bb9-e417-825a82398598"
      },
      "execution_count": 36,
      "outputs": [
        {
          "output_type": "stream",
          "name": "stdout",
          "text": [
            "+---------+------+-------+------------------+-------------+--------------------+------+----+--------------+---+---+---------------+-----+------+\n",
            "|  Selecao|Numero|Posicao|         Nome_FIFA|Nome Camiseta|                Time|Altura|Peso|Ano_Nascimento|Dia|Mes|Data_Nascimento|Idade|degrau|\n",
            "+---------+------+-------+------------------+-------------+--------------------+------+----+--------------+---+---+---------------+-----+------+\n",
            "|Argentina|     6|     DF|    FAZIO Federico|        FAZIO|       AS Roma (ITA)|   199|  85|          1987| 17| 03|     1987-03-17|   37|  NULL|\n",
            "|Argentina|     1|     GK|     GUZMAN Nahuel|       GUZMÁN|   Tigres UANL (MEX)|   192|  90|          1986| 10| 02|     1986-02-10|   38|   199|\n",
            "|Argentina|    16|     DF|       ROJO Marcos|         ROJO|Manchester United...|   189|  82|          1990| 20| 03|     1990-03-20|   34|   192|\n",
            "|Argentina|    12|     GK|     ARMANI Franco|       ARMANI|CA River Plate (ARG)|   189|  85|          1986| 16| 10|     1986-10-16|   38|   189|\n",
            "|Argentina|    23|     GK|CABALLERO Wilfredo|    CABALLERO|    Chelsea FC (ENG)|   186|  80|          1981| 28| 09|     1981-09-28|   43|   189|\n",
            "|Argentina|     9|     FW|   HIGUAIN Gonzalo|      HIGUAÍN|   Juventus FC (ITA)|   184|  75|          1987| 10| 12|     1987-12-10|   37|   186|\n",
            "|Argentina|     4|     DF|  ANSALDI Cristian|      ANSALDI|     Torino FC (ITA)|   181|  73|          1986| 20| 09|     1986-09-20|   38|   184|\n",
            "|Argentina|     2|     DF|   MERCADO Gabriel|      MERCADO|    Sevilla FC (ESP)|   181|  81|          1987| 18| 03|     1987-03-18|   37|   181|\n",
            "|Argentina|    17|     DF|  OTAMENDI Nicolas|     OTAMENDI|Manchester City F...|   181|  81|          1988| 12| 02|     1988-02-12|   36|   181|\n",
            "|Argentina|    13|     MF|  MEZA Maximiliano|         MEZA|CA Independiente ...|   180|  76|          1992| 15| 12|     1992-12-15|   32|   181|\n",
            "|Argentina|    11|     MF|    DI MARIA Angel|     DI MARÍA|Paris Saint-Germa...|   178|  75|          1988| 14| 02|     1988-02-14|   36|   180|\n",
            "|Argentina|    21|     FW|      DYBALA Paulo|       DYBALA|   Juventus FC (ITA)|   177|  73|          1993| 15| 11|     1993-11-15|   31|   178|\n",
            "|Argentina|    20|     MF|  LO CELSO Giovani|     LO CELSO|Paris Saint-Germa...|   177|  75|          1996| 09| 04|     1996-04-09|   28|   177|\n",
            "|Argentina|     5|     MF|      BIGLIA Lucas|       BIGLIA|      AC Milan (ITA)|   175|  73|          1986| 30| 01|     1986-01-30|   38|   177|\n",
            "|Argentina|     7|     MF|       BANEGA Ever|       BANEGA|    Sevilla FC (ESP)|   175|  73|          1988| 29| 06|     1988-06-29|   36|   175|\n",
            "|Argentina|    14|     DF| MASCHERANO Javier|   MASCHERANO|Hebei China Fortu...|   174|  73|          1984| 08| 06|     1984-06-08|   40|   175|\n",
            "|Argentina|    19|     FW|     AGUERO Sergio|       AGÜERO|Manchester City F...|   172|  74|          1988| 02| 06|     1988-06-02|   36|   174|\n",
            "|Argentina|     8|     DF|      ACUNA Marcos|        ACUÑA|   Sporting CP (POR)|   172|  77|          1991| 28| 10|     1991-10-28|   33|   172|\n",
            "|Argentina|    10|     FW|      MESSI Lionel|        MESSI|  FC Barcelona (ESP)|   170|  72|          1987| 24| 06|     1987-06-24|   37|   172|\n",
            "|Argentina|     3|     DF|TAGLIAFICO Nicolas|   TAGLIAFICO|      AFC Ajax (NED)|   169|  65|          1992| 31| 08|     1992-08-31|   32|   170|\n",
            "+---------+------+-------+------------------+-------------+--------------------+------+----+--------------+---+---+---------------+-----+------+\n",
            "only showing top 20 rows\n",
            "\n"
          ]
        }
      ]
    },
    {
      "cell_type": "code",
      "source": [
        "# Função degrau com o lead pegando da posterior\n",
        "degrau2 = Window.partitionBy('Selecao').orderBy(col('Altura').desc())\n",
        "\n",
        "dados.withColumn('degrau2', lead('Altura', 1).over(degrau2)).show(30)"
      ],
      "metadata": {
        "colab": {
          "base_uri": "https://localhost:8080/"
        },
        "id": "fjyamSmwFSUB",
        "outputId": "2efe3eaf-ec37-4a24-a951-82c70534adb3"
      },
      "execution_count": 37,
      "outputs": [
        {
          "output_type": "stream",
          "name": "stdout",
          "text": [
            "+---------+------+-------+------------------+-------------+--------------------+------+----+--------------+---+---+---------------+-----+-------+\n",
            "|  Selecao|Numero|Posicao|         Nome_FIFA|Nome Camiseta|                Time|Altura|Peso|Ano_Nascimento|Dia|Mes|Data_Nascimento|Idade|degrau2|\n",
            "+---------+------+-------+------------------+-------------+--------------------+------+----+--------------+---+---+---------------+-----+-------+\n",
            "|Argentina|     6|     DF|    FAZIO Federico|        FAZIO|       AS Roma (ITA)|   199|  85|          1987| 17| 03|     1987-03-17|   37|    192|\n",
            "|Argentina|     1|     GK|     GUZMAN Nahuel|       GUZMÁN|   Tigres UANL (MEX)|   192|  90|          1986| 10| 02|     1986-02-10|   38|    189|\n",
            "|Argentina|    16|     DF|       ROJO Marcos|         ROJO|Manchester United...|   189|  82|          1990| 20| 03|     1990-03-20|   34|    189|\n",
            "|Argentina|    12|     GK|     ARMANI Franco|       ARMANI|CA River Plate (ARG)|   189|  85|          1986| 16| 10|     1986-10-16|   38|    186|\n",
            "|Argentina|    23|     GK|CABALLERO Wilfredo|    CABALLERO|    Chelsea FC (ENG)|   186|  80|          1981| 28| 09|     1981-09-28|   43|    184|\n",
            "|Argentina|     9|     FW|   HIGUAIN Gonzalo|      HIGUAÍN|   Juventus FC (ITA)|   184|  75|          1987| 10| 12|     1987-12-10|   37|    181|\n",
            "|Argentina|     4|     DF|  ANSALDI Cristian|      ANSALDI|     Torino FC (ITA)|   181|  73|          1986| 20| 09|     1986-09-20|   38|    181|\n",
            "|Argentina|     2|     DF|   MERCADO Gabriel|      MERCADO|    Sevilla FC (ESP)|   181|  81|          1987| 18| 03|     1987-03-18|   37|    181|\n",
            "|Argentina|    17|     DF|  OTAMENDI Nicolas|     OTAMENDI|Manchester City F...|   181|  81|          1988| 12| 02|     1988-02-12|   36|    180|\n",
            "|Argentina|    13|     MF|  MEZA Maximiliano|         MEZA|CA Independiente ...|   180|  76|          1992| 15| 12|     1992-12-15|   32|    178|\n",
            "|Argentina|    11|     MF|    DI MARIA Angel|     DI MARÍA|Paris Saint-Germa...|   178|  75|          1988| 14| 02|     1988-02-14|   36|    177|\n",
            "|Argentina|    21|     FW|      DYBALA Paulo|       DYBALA|   Juventus FC (ITA)|   177|  73|          1993| 15| 11|     1993-11-15|   31|    177|\n",
            "|Argentina|    20|     MF|  LO CELSO Giovani|     LO CELSO|Paris Saint-Germa...|   177|  75|          1996| 09| 04|     1996-04-09|   28|    175|\n",
            "|Argentina|     5|     MF|      BIGLIA Lucas|       BIGLIA|      AC Milan (ITA)|   175|  73|          1986| 30| 01|     1986-01-30|   38|    175|\n",
            "|Argentina|     7|     MF|       BANEGA Ever|       BANEGA|    Sevilla FC (ESP)|   175|  73|          1988| 29| 06|     1988-06-29|   36|    174|\n",
            "|Argentina|    14|     DF| MASCHERANO Javier|   MASCHERANO|Hebei China Fortu...|   174|  73|          1984| 08| 06|     1984-06-08|   40|    172|\n",
            "|Argentina|    19|     FW|     AGUERO Sergio|       AGÜERO|Manchester City F...|   172|  74|          1988| 02| 06|     1988-06-02|   36|    172|\n",
            "|Argentina|     8|     DF|      ACUNA Marcos|        ACUÑA|   Sporting CP (POR)|   172|  77|          1991| 28| 10|     1991-10-28|   33|    170|\n",
            "|Argentina|    10|     FW|      MESSI Lionel|        MESSI|  FC Barcelona (ESP)|   170|  72|          1987| 24| 06|     1987-06-24|   37|    169|\n",
            "|Argentina|     3|     DF|TAGLIAFICO Nicolas|   TAGLIAFICO|      AFC Ajax (NED)|   169|  65|          1992| 31| 08|     1992-08-31|   32|    169|\n",
            "|Argentina|    22|     MF|    PAVON Cristian|        PAVÓN|CA Boca Juniors (...|   169|  65|          1996| 21| 01|     1996-01-21|   28|    167|\n",
            "|Argentina|    15|     MF|    LANZINI Manuel|      LANZINI|West Ham United F...|   167|  66|          1993| 15| 02|     1993-02-15|   31|    167|\n",
            "|Argentina|    18|     DF|    SALVIO Eduardo|       SALVIO|    SL Benfica (POR)|   167|  69|          1990| 13| 07|     1990-07-13|   34|   NULL|\n",
            "|Australia|    12|     GK|        JONES Brad|        JONES|Feyenoord Rotterd...|   193|  87|          1982| 19| 03|     1982-03-19|   42|    190|\n",
            "|Australia|     9|     FW|        JURIC Tomi|        JURIC|     FC Luzern (SUI)|   190|  80|          1991| 22| 07|     1991-07-22|   33|    190|\n",
            "|Australia|     6|     DF|    JURMAN Matthew|       JURMAN|Suwon Samsung Blu...|   190|  83|          1989| 08| 12|     1989-12-08|   35|    189|\n",
            "|Australia|    23|     MF|         ROGIC Tom|        ROGIC|     Celtic FC (SCO)|   189|  88|          1992| 16| 12|     1992-12-16|   32|    188|\n",
            "|Australia|    15|     MF|      JEDINAK Mile|      JEDINAK|Aston Villa FC (ENG)|   188|  78|          1984| 03| 08|     1984-08-03|   40|    187|\n",
            "|Australia|     2|     DF|     DEGENEK Milos|      DEGENEK|Yokohama F-Marino...|   187|  85|          1994| 28| 04|     1994-04-28|   30|    187|\n",
            "|Australia|    18|     GK|     VUKOVIC Danny|      VUKOVIC|      KRC Genk (BEL)|   187|  94|          1985| 27| 03|     1985-03-27|   39|    184|\n",
            "+---------+------+-------+------------------+-------------+--------------------+------+----+--------------+---+---+---------------+-----+-------+\n",
            "only showing top 30 rows\n",
            "\n"
          ]
        }
      ]
    },
    {
      "cell_type": "code",
      "source": [
        "# Comando group by\n",
        "\n",
        "dados.groupBy('Selecao').agg({'Altura': 'avg'}).orderBy('avg(Altura)', ascending = False).show(32)"
      ],
      "metadata": {
        "colab": {
          "base_uri": "https://localhost:8080/"
        },
        "id": "iMivW57NFz3N",
        "outputId": "0881a9e2-88d2-4a3c-8aef-0e1407ab2d02"
      },
      "execution_count": 40,
      "outputs": [
        {
          "output_type": "stream",
          "name": "stdout",
          "text": [
            "+--------------+------------------+\n",
            "|       Selecao|       avg(Altura)|\n",
            "+--------------+------------------+\n",
            "|        Serbia|186.69565217391303|\n",
            "|       Denmark| 186.6086956521739|\n",
            "|       Germany| 185.7826086956522|\n",
            "|        Sweden| 185.7391304347826|\n",
            "|       Iceland|185.52173913043478|\n",
            "|       Belgium|185.34782608695653|\n",
            "|       Croatia| 185.2608695652174|\n",
            "|       Nigeria|184.52173913043478|\n",
            "|       IR Iran|184.47826086956522|\n",
            "|        Russia| 184.3913043478261|\n",
            "|       Senegal|183.65217391304347|\n",
            "|        France|183.30434782608697|\n",
            "|        Poland|183.17391304347825|\n",
            "|       Tunisia|183.08695652173913|\n",
            "|   Switzerland|182.91304347826087|\n",
            "|       England| 182.7391304347826|\n",
            "|       Morocco|182.69565217391303|\n",
            "|        Panama|182.17391304347825|\n",
            "|Korea Republic| 181.8695652173913|\n",
            "|       Uruguay|181.04347826086956|\n",
            "|         Egypt|             181.0|\n",
            "|     Australia| 180.8695652173913|\n",
            "|        Brazil| 180.7826086956522|\n",
            "|      Colombia| 180.7826086956522|\n",
            "|    Costa Rica|180.69565217391303|\n",
            "|         Spain|179.91304347826087|\n",
            "|        Mexico| 179.7826086956522|\n",
            "|      Portugal| 179.7391304347826|\n",
            "|         Japan| 178.7826086956522|\n",
            "|     Argentina|178.43478260869566|\n",
            "|  Saudi Arabia|177.65217391304347|\n",
            "|          Peru| 177.6086956521739|\n",
            "+--------------+------------------+\n",
            "\n"
          ]
        }
      ]
    },
    {
      "cell_type": "code",
      "source": [
        "# Outra forma de fazer o group by\n",
        "dados.groupBy('Selecao').agg(avg('Altura')).orderBy('avg(Altura)', ascending = False).show(32)"
      ],
      "metadata": {
        "colab": {
          "base_uri": "https://localhost:8080/"
        },
        "id": "4QYx-yDKGRbD",
        "outputId": "9057c707-a96c-4909-94d3-6d380152ef8f"
      },
      "execution_count": 41,
      "outputs": [
        {
          "output_type": "stream",
          "name": "stdout",
          "text": [
            "+--------------+------------------+\n",
            "|       Selecao|       avg(Altura)|\n",
            "+--------------+------------------+\n",
            "|        Serbia|186.69565217391303|\n",
            "|       Denmark| 186.6086956521739|\n",
            "|       Germany| 185.7826086956522|\n",
            "|        Sweden| 185.7391304347826|\n",
            "|       Iceland|185.52173913043478|\n",
            "|       Belgium|185.34782608695653|\n",
            "|       Croatia| 185.2608695652174|\n",
            "|       Nigeria|184.52173913043478|\n",
            "|       IR Iran|184.47826086956522|\n",
            "|        Russia| 184.3913043478261|\n",
            "|       Senegal|183.65217391304347|\n",
            "|        France|183.30434782608697|\n",
            "|        Poland|183.17391304347825|\n",
            "|       Tunisia|183.08695652173913|\n",
            "|   Switzerland|182.91304347826087|\n",
            "|       England| 182.7391304347826|\n",
            "|       Morocco|182.69565217391303|\n",
            "|        Panama|182.17391304347825|\n",
            "|Korea Republic| 181.8695652173913|\n",
            "|       Uruguay|181.04347826086956|\n",
            "|         Egypt|             181.0|\n",
            "|     Australia| 180.8695652173913|\n",
            "|        Brazil| 180.7826086956522|\n",
            "|      Colombia| 180.7826086956522|\n",
            "|    Costa Rica|180.69565217391303|\n",
            "|         Spain|179.91304347826087|\n",
            "|        Mexico| 179.7826086956522|\n",
            "|      Portugal| 179.7391304347826|\n",
            "|         Japan| 178.7826086956522|\n",
            "|     Argentina|178.43478260869566|\n",
            "|  Saudi Arabia|177.65217391304347|\n",
            "|          Peru| 177.6086956521739|\n",
            "+--------------+------------------+\n",
            "\n"
          ]
        }
      ]
    },
    {
      "cell_type": "code",
      "source": [
        "# Vamos verificar o jogador mais alto\n",
        "dados.groupBy('Selecao').agg(max('Altura')).orderBy('max(Altura)', ascending = False).show(32)"
      ],
      "metadata": {
        "colab": {
          "base_uri": "https://localhost:8080/"
        },
        "id": "68zWwvtNHExE",
        "outputId": "e740a87c-87d4-4292-9875-a5f8c7a91f80"
      },
      "execution_count": 42,
      "outputs": [
        {
          "output_type": "stream",
          "name": "stdout",
          "text": [
            "+--------------+-----------+\n",
            "|       Selecao|max(Altura)|\n",
            "+--------------+-----------+\n",
            "|       Croatia|        201|\n",
            "|       Denmark|        200|\n",
            "|     Argentina|        199|\n",
            "|       Belgium|        199|\n",
            "|        Sweden|        198|\n",
            "|       Iceland|        198|\n",
            "|        France|        197|\n",
            "|       Nigeria|        197|\n",
            "|Korea Republic|        197|\n",
            "|        Panama|        197|\n",
            "|        Russia|        196|\n",
            "|       Senegal|        196|\n",
            "|       Uruguay|        196|\n",
            "|       England|        196|\n",
            "|    Costa Rica|        196|\n",
            "|       Germany|        195|\n",
            "|        Brazil|        195|\n",
            "|        Poland|        195|\n",
            "|        Serbia|        195|\n",
            "|       IR Iran|        194|\n",
            "|         Spain|        194|\n",
            "|         Egypt|        194|\n",
            "|      Colombia|        194|\n",
            "|     Australia|        193|\n",
            "|       Tunisia|        192|\n",
            "|  Saudi Arabia|        192|\n",
            "|   Switzerland|        192|\n",
            "|      Portugal|        191|\n",
            "|       Morocco|        190|\n",
            "|        Mexico|        190|\n",
            "|          Peru|        189|\n",
            "|         Japan|        189|\n",
            "+--------------+-----------+\n",
            "\n"
          ]
        }
      ]
    },
    {
      "cell_type": "code",
      "source": [
        "# Vamos trabalhar com a função where\n",
        "dados.where(dados.Selecao == 'Brazil').where(dados.Posicao == 'DF').show()"
      ],
      "metadata": {
        "colab": {
          "base_uri": "https://localhost:8080/"
        },
        "id": "nff9HuwmHUTa",
        "outputId": "8ddc13cc-9831-48c2-f9f0-f7b732467bd4"
      },
      "execution_count": 45,
      "outputs": [
        {
          "output_type": "stream",
          "name": "stdout",
          "text": [
            "+-------+------+-------+-------------+-------------+--------------------+------+----+--------------+---+---+---------------+-----+\n",
            "|Selecao|Numero|Posicao|    Nome_FIFA|Nome Camiseta|                Time|Altura|Peso|Ano_Nascimento|Dia|Mes|Data_Nascimento|Idade|\n",
            "+-------+------+-------+-------------+-------------+--------------------+------+----+--------------+---+---+---------------+-----+\n",
            "| Brazil|    22|     DF|       FAGNER|       FAGNER|SC Corinthians (BRA)|   168|  67|          1989| 11| 06|     1989-06-11|   35|\n",
            "| Brazil|     6|     DF|  FILIPE LUIS|  FILIPE LUIS|Atletico Madrid (...|   182|  73|          1985| 09| 08|     1985-08-09|   39|\n",
            "| Brazil|    13|     DF|   MARQUINHOS|   MARQUINHOS|Paris Saint-Germa...|   183|  75|          1994| 14| 05|     1994-05-14|   30|\n",
            "| Brazil|     3|     DF|      MIRANDA|      MIRANDA|FC Internazionale...|   186|  78|          1984| 07| 09|     1984-09-07|   40|\n",
            "| Brazil|    14|     DF|       DANILO|       DANILO|Manchester City F...|   184|  78|          1991| 15| 07|     1991-07-15|   33|\n",
            "| Brazil|     2|     DF| THIAGO SILVA|     T. SILVA|Paris Saint-Germa...|   183|  79|          1984| 22| 09|     1984-09-22|   40|\n",
            "| Brazil|    12|     DF|      MARCELO|      MARCELO|Real Madrid CF (ESP)|   174|  80|          1988| 12| 05|     1988-05-12|   36|\n",
            "| Brazil|     4|     DF|PEDRO GEROMEL|      GEROMEL|   Grêmio FBPA (BRA)|   190|  84|          1985| 21| 09|     1985-09-21|   39|\n",
            "+-------+------+-------+-------------+-------------+--------------------+------+----+--------------+---+---+---------------+-----+\n",
            "\n"
          ]
        }
      ]
    },
    {
      "cell_type": "code",
      "source": [
        "# Vamos verificar os jogadores mais pesados\n",
        "top1 = Window.partitionBy('Selecao').orderBy(col('Peso').desc())\n",
        "\n",
        "dados.withColumn('topo', rank().over(top1)).where('topo = \"1\" ').show()"
      ],
      "metadata": {
        "colab": {
          "base_uri": "https://localhost:8080/"
        },
        "id": "Gr3Ox1NBHn-i",
        "outputId": "4ae9088c-9785-4b43-95e7-93ed7327a361"
      },
      "execution_count": 47,
      "outputs": [
        {
          "output_type": "stream",
          "name": "stdout",
          "text": [
            "+--------------+------+-------+------------------+-------------+--------------------+------+----+--------------+---+---+---------------+-----+----+\n",
            "|       Selecao|Numero|Posicao|         Nome_FIFA|Nome Camiseta|                Time|Altura|Peso|Ano_Nascimento|Dia|Mes|Data_Nascimento|Idade|topo|\n",
            "+--------------+------+-------+------------------+-------------+--------------------+------+----+--------------+---+---+---------------+-----+----+\n",
            "|     Argentina|     1|     GK|     GUZMAN Nahuel|       GUZMÁN|   Tigres UANL (MEX)|   192|  90|          1986| 10| 02|     1986-02-10|   38|   1|\n",
            "|     Australia|    18|     GK|     VUKOVIC Danny|      VUKOVIC|      KRC Genk (BEL)|   187|  94|          1985| 27| 03|     1985-03-27|   39|   1|\n",
            "|       Belgium|     9|     FW|     LUKAKU Romelu|    R. LUKAKU|Manchester United...|   190|  94|          1993| 13| 05|     1993-05-13|   31|   1|\n",
            "|        Brazil|    16|     GK|            CASSIO|       CASSIO|SC Corinthians (BRA)|   195|  92|          1987| 06| 06|     1987-06-06|   37|   1|\n",
            "|      Colombia|    13|     DF|        MINA Yerry|      Y. MINA|  FC Barcelona (ESP)|   194|  95|          1994| 23| 09|     1994-09-23|   30|   1|\n",
            "|    Costa Rica|    19|     DF|    WASTON Kendall|    K. WASTON|Vancouver Whiteca...|   196|  87|          1988| 01| 01|     1988-01-01|   36|   1|\n",
            "|       Croatia|    12|     GK|     KALINIC Lovre|   L. KALINIĆ|      KAA Gent (BEL)|   201|  96|          1990| 03| 04|     1990-04-03|   34|   1|\n",
            "|       Denmark|     3|     DF|VESTERGAARD Jannik|  VESTERGAARD|VfL Borussia Mönc...|   200|  98|          1992| 03| 08|     1992-08-03|   32|   1|\n",
            "|         Egypt|     6|     DF|      AHMED HEGAZY|    A. HEGAZY|West Bromwich Alb...|   194|  95|          1991| 25| 01|     1991-01-25|   33|   1|\n",
            "|       England|     6|     DF|     MAGUIRE Harry|      MAGUIRE|Leicester City FC...|   193|  98|          1993| 05| 03|     1993-03-05|   31|   1|\n",
            "|       England|     9|     FW|        KANE Harry|         KANE|Tottenham Hotspur...|   188|  98|          1993| 28| 07|     1993-07-28|   31|   1|\n",
            "|        France|    23|     GK|   AREOLA Alphonse|       AREOLA|Paris Saint-Germa...|   195|  95|          1993| 27| 02|     1993-02-27|   31|   1|\n",
            "|       Germany|     1|     GK|      NEUER Manuel|        NEUER|FC Bayern München...|   193|  93|          1986| 27| 03|     1986-03-27|   38|   1|\n",
            "|       IR Iran|     1|     GK|    BEIRANVAND Ali|A. BEIRANVAND| Persepolis FC (IRN)|   194|  85|          1992| 21| 09|     1992-09-21|   32|   1|\n",
            "|       Iceland|    12|     GK|   SCHRAM Frederik|       SCHRAM|   Roskilde BK (DEN)|   198|  92|          1995| 19| 01|     1995-01-19|   29|   1|\n",
            "|         Japan|     2|     DF|     UEDA Naomichi|         UEDA|Kashima Antlers (...|   186|  79|          1994| 24| 10|     1994-10-24|   30|   1|\n",
            "|Korea Republic|     9|     FW|      KIM Shinwook|      S W KIM|Jeonbuk Hyundai (...|   197|  97|          1988| 14| 04|     1988-04-14|   36|   1|\n",
            "|        Mexico|    12|     GK|  TALAVERA Alfredo|  A. TALAVERA|Deportivo Toluca ...|   188|  84|          1982| 18| 09|     1982-09-18|   42|   1|\n",
            "|       Morocco|     5|     DF|     BENATIA Mehdi|      BENATIA|   Juventus FC (ITA)|   188|  88|          1987| 17| 04|     1987-04-17|   37|   1|\n",
            "|       Morocco|    12|     GK|   EL KAJOUI Monir|    EL KAJOUI|   CD Numancia (ESP)|   190|  88|          1989| 10| 05|     1989-05-10|   35|   1|\n",
            "+--------------+------+-------+------------------+-------------+--------------------+------+----+--------------+---+---+---------------+-----+----+\n",
            "only showing top 20 rows\n",
            "\n"
          ]
        }
      ]
    },
    {
      "cell_type": "code",
      "source": [
        "# Vamos fazer as estatísticas descritivas do banco de dados\n",
        "dados.describe().show()"
      ],
      "metadata": {
        "colab": {
          "base_uri": "https://localhost:8080/"
        },
        "id": "_OHY8mJPIMr2",
        "outputId": "f0454ec1-aec8-4c2a-f83e-2698e726b67f"
      },
      "execution_count": 48,
      "outputs": [
        {
          "output_type": "stream",
          "name": "stdout",
          "text": [
            "+-------+---------+-----------------+-------+------------+-------------+--------------------+-----------------+-----------------+------------------+------------------+------------------+------------------+\n",
            "|summary|  Selecao|           Numero|Posicao|   Nome_FIFA|Nome Camiseta|                Time|           Altura|             Peso|    Ano_Nascimento|               Dia|               Mes|             Idade|\n",
            "+-------+---------+-----------------+-------+------------+-------------+--------------------+-----------------+-----------------+------------------+------------------+------------------+------------------+\n",
            "|  count|      736|              736|    736|         736|          736|                 736|              736|              736|               736|               736|               736|               736|\n",
            "|   mean|     NULL|             12.0|   NULL|        NULL|         NULL|                NULL|182.4076086956522|77.18885869565217| 1990.110054347826|15.793478260869565|5.8790760869565215|33.889945652173914|\n",
            "| stddev|     NULL|6.637760461599851|   NULL|        NULL|         NULL|                NULL|6.930924233929302|7.233778346883639|3.9074472063626775| 8.761123828732469|3.3782493094684387|3.9074472063627024|\n",
            "|    min|Argentina|                1|     DF|ABDALLA SAID|    A. ASHRAF|    1. FC Köln (GER)|              165|               59|              1973|                01|                01|                25|\n",
            "|    max|  Uruguay|               23|     MF|ZUBER Steven|     ŽIVKOVIĆ|Étoile du Sahel (...|              201|               99|              1999|                31|                12|                51|\n",
            "+-------+---------+-----------------+-------+------------+-------------+--------------------+-----------------+-----------------+------------------+------------------+------------------+------------------+\n",
            "\n"
          ]
        }
      ]
    },
    {
      "cell_type": "code",
      "source": [
        "# Vamos fazer as estatísticas descritivas do Brazil\n",
        "dados.where(dados.Selecao == 'Brazil').describe().show()"
      ],
      "metadata": {
        "colab": {
          "base_uri": "https://localhost:8080/"
        },
        "id": "kxpN-_IkJOUv",
        "outputId": "2fccfcf3-4224-47ed-f02f-a91d9edc54f9"
      },
      "execution_count": 49,
      "outputs": [
        {
          "output_type": "stream",
          "name": "stdout",
          "text": [
            "+-------+-------+-----------------+-------+---------+-------------+--------------------+-----------------+-----------------+-----------------+-----------------+-----------------+------------------+\n",
            "|summary|Selecao|           Numero|Posicao|Nome_FIFA|Nome Camiseta|                Time|           Altura|             Peso|   Ano_Nascimento|              Dia|              Mes|             Idade|\n",
            "+-------+-------+-----------------+-------+---------+-------------+--------------------+-----------------+-----------------+-----------------+-----------------+-----------------+------------------+\n",
            "|  count|     23|               23|     23|       23|           23|                  23|               23|               23|               23|               23|               23|                23|\n",
            "|   mean|   NULL|             12.0|   NULL|     NULL|         NULL|                NULL|180.7826086956522|76.56521739130434|1989.391304347826|11.26086956521739|6.130434782608695|34.608695652173914|\n",
            "| stddev|   NULL|6.782329983125267|   NULL|     NULL|         NULL|                NULL|7.354383490255254|8.239737898283606|3.499858833968506|6.876953549252538|2.784769418006175|3.4998588339685237|\n",
            "|    min| Brazil|                1|     DF|  ALISSON|    A. BECKER|       AS Roma (ITA)|              168|               64|             1984|               02|               01|                27|\n",
            "|    max| Brazil|               23|     MF|  WILLIAN|      WILLIAN|SC Corinthians (BRA)|              195|               92|             1997|               25|               10|                40|\n",
            "+-------+-------+-----------------+-------+---------+-------------+--------------------+-----------------+-----------------+-----------------+-----------------+-----------------+------------------+\n",
            "\n"
          ]
        }
      ]
    },
    {
      "cell_type": "code",
      "source": [
        "# Vamos fazer as médias das alturas por times\n",
        "parametro = Window.partitionBy('Selecao').orderBy(col('Altura').desc())\n",
        "parametro2 = Window.partitionBy('Selecao')\n",
        "\n",
        "dados.withColumn('linha', row_number().over(parametro))\\\n",
        ".withColumn('media', avg('Altura').over(parametro2))\\\n",
        ".withColumn('max', max('Altura').over(parametro2))\\\n",
        ".withColumn('mediana', median('Altura').over(parametro2))\\\n",
        ".withColumn('min', min('Altura').over(parametro2))\\\n",
        ".withColumn('std', stddev('Altura').over(parametro2))\\\n",
        ".where('linha = \"1\" ').select('Selecao', 'media', 'mediana', 'min', 'max', 'std')\\\n",
        ".orderBy('media', ascending = False).show(20)"
      ],
      "metadata": {
        "colab": {
          "base_uri": "https://localhost:8080/"
        },
        "id": "Lc5uXUtEJcWY",
        "outputId": "e6c2fdcc-78ae-414a-bea8-4940bf6f7c9e"
      },
      "execution_count": 51,
      "outputs": [
        {
          "output_type": "stream",
          "name": "stdout",
          "text": [
            "+--------------+------------------+-------+---+---+------------------+\n",
            "|       Selecao|             media|mediana|min|max|               std|\n",
            "+--------------+------------------+-------+---+---+------------------+\n",
            "|        Serbia|186.69565217391303|  187.0|169|195| 6.189689246192162|\n",
            "|       Denmark| 186.6086956521739|  187.0|171|200| 7.371561635679147|\n",
            "|       Germany| 185.7826086956522|  186.0|176|195| 5.247999807191742|\n",
            "|        Sweden| 185.7391304347826|  185.0|177|198|5.5531922948905175|\n",
            "|       Iceland|185.52173913043478|  186.0|170|198|   5.6235670111464|\n",
            "|       Belgium|185.34782608695653|  186.0|169|199| 7.595505223798012|\n",
            "|       Croatia| 185.2608695652174|  186.0|172|201| 6.173384155935763|\n",
            "|       Nigeria|184.52173913043478|  185.0|172|197| 6.940458232300529|\n",
            "|       IR Iran|184.47826086956522|  185.0|177|194| 4.925532414391097|\n",
            "|        Russia| 184.3913043478261|  185.0|173|196| 5.458430763796681|\n",
            "|       Senegal|183.65217391304347|  184.0|173|196|7.3274620166018485|\n",
            "|        France|183.30434782608697|  183.0|168|197| 7.600447251245975|\n",
            "|        Poland|183.17391304347825|  184.0|172|195|  6.57579704061551|\n",
            "|       Tunisia|183.08695652173913|  185.0|170|192| 5.290755604038032|\n",
            "|   Switzerland|182.91304347826087|  184.0|165|192| 5.367520533714066|\n",
            "|       England| 182.7391304347826|  183.0|170|196| 7.312612959838319|\n",
            "|       Morocco|182.69565217391303|  183.0|167|190| 6.108375640415922|\n",
            "|        Panama|182.17391304347825|  183.0|165|197| 6.117427964527712|\n",
            "|Korea Republic| 181.8695652173913|  183.0|170|197| 7.485163190217664|\n",
            "|       Uruguay|181.04347826086956|  184.0|168|196| 7.642454751223983|\n",
            "+--------------+------------------+-------+---+---+------------------+\n",
            "only showing top 20 rows\n",
            "\n"
          ]
        }
      ]
    }
  ]
}